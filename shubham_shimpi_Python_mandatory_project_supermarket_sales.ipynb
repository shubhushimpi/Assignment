{
 "cells": [
  {
   "cell_type": "markdown",
   "id": "b3f81fb3",
   "metadata": {},
   "source": [
    "# Importing Libraries"
   ]
  },
  {
   "cell_type": "code",
   "execution_count": 318,
   "id": "d57723ad",
   "metadata": {},
   "outputs": [],
   "source": [
    "import pandas as pd\n",
    "import numpy as np\n",
    "import matplotlib.pyplot as plt\n",
    "import seaborn as sns\n",
    "import warnings\n",
    "warnings.filterwarnings('ignore')"
   ]
  },
  {
   "cell_type": "markdown",
   "id": "d0ee3227",
   "metadata": {},
   "source": [
    "## Loading Dataset"
   ]
  },
  {
   "cell_type": "code",
   "execution_count": 319,
   "id": "f9fc84d1",
   "metadata": {},
   "outputs": [
    {
     "data": {
      "text/html": [
       "<div>\n",
       "<style scoped>\n",
       "    .dataframe tbody tr th:only-of-type {\n",
       "        vertical-align: middle;\n",
       "    }\n",
       "\n",
       "    .dataframe tbody tr th {\n",
       "        vertical-align: top;\n",
       "    }\n",
       "\n",
       "    .dataframe thead th {\n",
       "        text-align: right;\n",
       "    }\n",
       "</style>\n",
       "<table border=\"1\" class=\"dataframe\">\n",
       "  <thead>\n",
       "    <tr style=\"text-align: right;\">\n",
       "      <th></th>\n",
       "      <th>Invoice ID</th>\n",
       "      <th>Branch</th>\n",
       "      <th>city code</th>\n",
       "      <th>Customer type</th>\n",
       "      <th>Gender</th>\n",
       "      <th>Product code</th>\n",
       "      <th>Unit price</th>\n",
       "      <th>Quantity</th>\n",
       "      <th>Tax 5%</th>\n",
       "      <th>Total</th>\n",
       "      <th>Date</th>\n",
       "      <th>Time</th>\n",
       "      <th>Payment</th>\n",
       "      <th>cogs</th>\n",
       "      <th>gross margin percentage</th>\n",
       "      <th>gross income</th>\n",
       "      <th>Rating</th>\n",
       "    </tr>\n",
       "  </thead>\n",
       "  <tbody>\n",
       "    <tr>\n",
       "      <th>0</th>\n",
       "      <td>750-67-8428</td>\n",
       "      <td>A</td>\n",
       "      <td>CT1</td>\n",
       "      <td>Member</td>\n",
       "      <td>Female</td>\n",
       "      <td>PD1</td>\n",
       "      <td>74.69</td>\n",
       "      <td>7</td>\n",
       "      <td>26.1415</td>\n",
       "      <td>548.9715</td>\n",
       "      <td>2019-01-05</td>\n",
       "      <td>13:08:00</td>\n",
       "      <td>Ewallet</td>\n",
       "      <td>522.83</td>\n",
       "      <td>4.761905</td>\n",
       "      <td>26.1415</td>\n",
       "      <td>9.1</td>\n",
       "    </tr>\n",
       "    <tr>\n",
       "      <th>1</th>\n",
       "      <td>226-31-3081</td>\n",
       "      <td>C</td>\n",
       "      <td>CT3</td>\n",
       "      <td>Normal</td>\n",
       "      <td>Female</td>\n",
       "      <td>PD2</td>\n",
       "      <td>15.28</td>\n",
       "      <td>5</td>\n",
       "      <td>3.8200</td>\n",
       "      <td>80.2200</td>\n",
       "      <td>2019-03-08</td>\n",
       "      <td>10:29:00</td>\n",
       "      <td>Cash</td>\n",
       "      <td>76.40</td>\n",
       "      <td>4.761905</td>\n",
       "      <td>3.8200</td>\n",
       "      <td>9.6</td>\n",
       "    </tr>\n",
       "    <tr>\n",
       "      <th>2</th>\n",
       "      <td>631-41-3108</td>\n",
       "      <td>A</td>\n",
       "      <td>CT1</td>\n",
       "      <td>Normal</td>\n",
       "      <td>Male</td>\n",
       "      <td>PD3</td>\n",
       "      <td>46.33</td>\n",
       "      <td>7</td>\n",
       "      <td>16.2155</td>\n",
       "      <td>340.5255</td>\n",
       "      <td>2019-03-03</td>\n",
       "      <td>13:23:00</td>\n",
       "      <td>Credit card</td>\n",
       "      <td>324.31</td>\n",
       "      <td>4.761905</td>\n",
       "      <td>16.2155</td>\n",
       "      <td>7.4</td>\n",
       "    </tr>\n",
       "    <tr>\n",
       "      <th>3</th>\n",
       "      <td>123-19-1176</td>\n",
       "      <td>A</td>\n",
       "      <td>CT1</td>\n",
       "      <td>Member</td>\n",
       "      <td>Male</td>\n",
       "      <td>PD1</td>\n",
       "      <td>58.22</td>\n",
       "      <td>8</td>\n",
       "      <td>23.2880</td>\n",
       "      <td>489.0480</td>\n",
       "      <td>2019-01-27</td>\n",
       "      <td>20:33:00</td>\n",
       "      <td>Ewallet</td>\n",
       "      <td>465.76</td>\n",
       "      <td>4.761905</td>\n",
       "      <td>23.2880</td>\n",
       "      <td>8.4</td>\n",
       "    </tr>\n",
       "    <tr>\n",
       "      <th>4</th>\n",
       "      <td>373-73-7910</td>\n",
       "      <td>A</td>\n",
       "      <td>CT1</td>\n",
       "      <td>Normal</td>\n",
       "      <td>Male</td>\n",
       "      <td>PD4</td>\n",
       "      <td>86.31</td>\n",
       "      <td>7</td>\n",
       "      <td>30.2085</td>\n",
       "      <td>634.3785</td>\n",
       "      <td>2019-02-08</td>\n",
       "      <td>10:37:00</td>\n",
       "      <td>Ewallet</td>\n",
       "      <td>604.17</td>\n",
       "      <td>4.761905</td>\n",
       "      <td>30.2085</td>\n",
       "      <td>5.3</td>\n",
       "    </tr>\n",
       "    <tr>\n",
       "      <th>5</th>\n",
       "      <td>699-14-3026</td>\n",
       "      <td>C</td>\n",
       "      <td>CT3</td>\n",
       "      <td>Normal</td>\n",
       "      <td>Male</td>\n",
       "      <td>PD2</td>\n",
       "      <td>85.39</td>\n",
       "      <td>7</td>\n",
       "      <td>29.8865</td>\n",
       "      <td>627.6165</td>\n",
       "      <td>2019-03-25</td>\n",
       "      <td>18:30:00</td>\n",
       "      <td>Ewallet</td>\n",
       "      <td>597.73</td>\n",
       "      <td>4.761905</td>\n",
       "      <td>29.8865</td>\n",
       "      <td>4.1</td>\n",
       "    </tr>\n",
       "    <tr>\n",
       "      <th>6</th>\n",
       "      <td>355-53-5943</td>\n",
       "      <td>A</td>\n",
       "      <td>CT1</td>\n",
       "      <td>Member</td>\n",
       "      <td>Female</td>\n",
       "      <td>PD2</td>\n",
       "      <td>68.84</td>\n",
       "      <td>6</td>\n",
       "      <td>20.6520</td>\n",
       "      <td>433.6920</td>\n",
       "      <td>2019-02-25</td>\n",
       "      <td>14:36:00</td>\n",
       "      <td>Ewallet</td>\n",
       "      <td>413.04</td>\n",
       "      <td>4.761905</td>\n",
       "      <td>20.6520</td>\n",
       "      <td>5.8</td>\n",
       "    </tr>\n",
       "    <tr>\n",
       "      <th>7</th>\n",
       "      <td>315-22-5665</td>\n",
       "      <td>C</td>\n",
       "      <td>CT3</td>\n",
       "      <td>Normal</td>\n",
       "      <td>Female</td>\n",
       "      <td>PD3</td>\n",
       "      <td>73.56</td>\n",
       "      <td>10</td>\n",
       "      <td>36.7800</td>\n",
       "      <td>772.3800</td>\n",
       "      <td>2019-02-24</td>\n",
       "      <td>11:38:00</td>\n",
       "      <td>Ewallet</td>\n",
       "      <td>735.60</td>\n",
       "      <td>4.761905</td>\n",
       "      <td>36.7800</td>\n",
       "      <td>8.0</td>\n",
       "    </tr>\n",
       "    <tr>\n",
       "      <th>8</th>\n",
       "      <td>665-32-9167</td>\n",
       "      <td>A</td>\n",
       "      <td>CT1</td>\n",
       "      <td>Member</td>\n",
       "      <td>Female</td>\n",
       "      <td>PD1</td>\n",
       "      <td>-</td>\n",
       "      <td>2</td>\n",
       "      <td>3.6260</td>\n",
       "      <td>76.1460</td>\n",
       "      <td>2019-01-10</td>\n",
       "      <td>17:15:00</td>\n",
       "      <td>Credit card</td>\n",
       "      <td>72.52</td>\n",
       "      <td>4.761905</td>\n",
       "      <td>3.6260</td>\n",
       "      <td>7.2</td>\n",
       "    </tr>\n",
       "    <tr>\n",
       "      <th>9</th>\n",
       "      <td>692-92-5582</td>\n",
       "      <td>B</td>\n",
       "      <td>CT9</td>\n",
       "      <td>Member</td>\n",
       "      <td>Female</td>\n",
       "      <td>PD5</td>\n",
       "      <td>54.84</td>\n",
       "      <td>3</td>\n",
       "      <td>8.2260</td>\n",
       "      <td>172.7460</td>\n",
       "      <td>2019-02-20</td>\n",
       "      <td>13:27:00</td>\n",
       "      <td>Credit card</td>\n",
       "      <td>164.52</td>\n",
       "      <td>4.761905</td>\n",
       "      <td>8.2260</td>\n",
       "      <td>5.9</td>\n",
       "    </tr>\n",
       "    <tr>\n",
       "      <th>10</th>\n",
       "      <td>351-62-0822</td>\n",
       "      <td>B</td>\n",
       "      <td>CT9</td>\n",
       "      <td>Member</td>\n",
       "      <td>Female</td>\n",
       "      <td>PD6</td>\n",
       "      <td>14.48</td>\n",
       "      <td>4</td>\n",
       "      <td>2.8960</td>\n",
       "      <td>60.8160</td>\n",
       "      <td>2019-02-06</td>\n",
       "      <td>18:07:00</td>\n",
       "      <td>Ewallet</td>\n",
       "      <td>57.92</td>\n",
       "      <td>4.761905</td>\n",
       "      <td>2.8960</td>\n",
       "      <td>4.5</td>\n",
       "    </tr>\n",
       "    <tr>\n",
       "      <th>11</th>\n",
       "      <td>529-56-3974</td>\n",
       "      <td>B</td>\n",
       "      <td>CT9</td>\n",
       "      <td>Member</td>\n",
       "      <td>Male</td>\n",
       "      <td>PD2</td>\n",
       "      <td>25.51</td>\n",
       "      <td>4</td>\n",
       "      <td>5.1020</td>\n",
       "      <td>107.1420</td>\n",
       "      <td>2019-03-09</td>\n",
       "      <td>17:03:00</td>\n",
       "      <td>Cash</td>\n",
       "      <td>102.04</td>\n",
       "      <td>4.761905</td>\n",
       "      <td>5.1020</td>\n",
       "      <td>6.8</td>\n",
       "    </tr>\n",
       "    <tr>\n",
       "      <th>12</th>\n",
       "      <td>365-64-0515</td>\n",
       "      <td>A</td>\n",
       "      <td>CT1</td>\n",
       "      <td>Normal</td>\n",
       "      <td>Female</td>\n",
       "      <td>PD2</td>\n",
       "      <td>46.95</td>\n",
       "      <td>5</td>\n",
       "      <td>11.7375</td>\n",
       "      <td>246.4875</td>\n",
       "      <td>2019-02-12</td>\n",
       "      <td>10:25:00</td>\n",
       "      <td>Ewallet</td>\n",
       "      <td>234.75</td>\n",
       "      <td>4.761905</td>\n",
       "      <td>11.7375</td>\n",
       "      <td>7.1</td>\n",
       "    </tr>\n",
       "    <tr>\n",
       "      <th>13</th>\n",
       "      <td>252-56-2699</td>\n",
       "      <td>A</td>\n",
       "      <td>CT1</td>\n",
       "      <td>Normal</td>\n",
       "      <td>Male</td>\n",
       "      <td>PD5</td>\n",
       "      <td>43.19</td>\n",
       "      <td>10</td>\n",
       "      <td>21.5950</td>\n",
       "      <td>453.4950</td>\n",
       "      <td>2019-02-07</td>\n",
       "      <td>16:48:00</td>\n",
       "      <td>Ewallet</td>\n",
       "      <td>431.90</td>\n",
       "      <td>4.761905</td>\n",
       "      <td>21.5950</td>\n",
       "      <td>NaN</td>\n",
       "    </tr>\n",
       "    <tr>\n",
       "      <th>14</th>\n",
       "      <td>829-34-3910</td>\n",
       "      <td>A</td>\n",
       "      <td>CT1</td>\n",
       "      <td>Normal</td>\n",
       "      <td>Female</td>\n",
       "      <td>PD1</td>\n",
       "      <td>71.38</td>\n",
       "      <td>10</td>\n",
       "      <td>35.6900</td>\n",
       "      <td>749.4900</td>\n",
       "      <td>2019-03-29</td>\n",
       "      <td>19:21:00</td>\n",
       "      <td>Cash</td>\n",
       "      <td>713.80</td>\n",
       "      <td>4.761905</td>\n",
       "      <td>35.6900</td>\n",
       "      <td>5.7</td>\n",
       "    </tr>\n",
       "    <tr>\n",
       "      <th>15</th>\n",
       "      <td>299-46-1805</td>\n",
       "      <td>B</td>\n",
       "      <td>CT9</td>\n",
       "      <td>Member</td>\n",
       "      <td>Female</td>\n",
       "      <td>PD4</td>\n",
       "      <td>93.72</td>\n",
       "      <td>6</td>\n",
       "      <td>28.1160</td>\n",
       "      <td>590.4360</td>\n",
       "      <td>2019-01-15</td>\n",
       "      <td>16:19:00</td>\n",
       "      <td>Cash</td>\n",
       "      <td>562.32</td>\n",
       "      <td>4.761905</td>\n",
       "      <td>28.1160</td>\n",
       "      <td>4.5</td>\n",
       "    </tr>\n",
       "    <tr>\n",
       "      <th>16</th>\n",
       "      <td>656-95-9349</td>\n",
       "      <td>A</td>\n",
       "      <td>CT1</td>\n",
       "      <td>Member</td>\n",
       "      <td>Female</td>\n",
       "      <td>PD1</td>\n",
       "      <td>68.93</td>\n",
       "      <td>7</td>\n",
       "      <td>24.1255</td>\n",
       "      <td>506.6355</td>\n",
       "      <td>2019-03-11</td>\n",
       "      <td>11:03:00</td>\n",
       "      <td>Credit card</td>\n",
       "      <td>482.51</td>\n",
       "      <td>4.761905</td>\n",
       "      <td>24.1255</td>\n",
       "      <td>4.6</td>\n",
       "    </tr>\n",
       "    <tr>\n",
       "      <th>17</th>\n",
       "      <td>765-26-6951</td>\n",
       "      <td>A</td>\n",
       "      <td>CT1</td>\n",
       "      <td>Normal</td>\n",
       "      <td>Male</td>\n",
       "      <td>PD4</td>\n",
       "      <td>72.61</td>\n",
       "      <td>6</td>\n",
       "      <td>21.7830</td>\n",
       "      <td>457.4430</td>\n",
       "      <td>2019-01-01</td>\n",
       "      <td>10:39:00</td>\n",
       "      <td>Credit card</td>\n",
       "      <td>435.66</td>\n",
       "      <td>4.761905</td>\n",
       "      <td>21.7830</td>\n",
       "      <td>6.9</td>\n",
       "    </tr>\n",
       "    <tr>\n",
       "      <th>18</th>\n",
       "      <td>329-62-1586</td>\n",
       "      <td>A</td>\n",
       "      <td>CT1</td>\n",
       "      <td>Normal</td>\n",
       "      <td>Male</td>\n",
       "      <td>PD5</td>\n",
       "      <td>54.67</td>\n",
       "      <td>3</td>\n",
       "      <td>8.2005</td>\n",
       "      <td>172.2105</td>\n",
       "      <td>2019-01-21</td>\n",
       "      <td>18:00:00</td>\n",
       "      <td>Credit card</td>\n",
       "      <td>164.01</td>\n",
       "      <td>4.761905</td>\n",
       "      <td>8.2005</td>\n",
       "      <td>8.6</td>\n",
       "    </tr>\n",
       "    <tr>\n",
       "      <th>19</th>\n",
       "      <td>319-50-3348</td>\n",
       "      <td>B</td>\n",
       "      <td>CT9</td>\n",
       "      <td>Normal</td>\n",
       "      <td>Female</td>\n",
       "      <td>PD3</td>\n",
       "      <td>40.3</td>\n",
       "      <td>2</td>\n",
       "      <td>4.0300</td>\n",
       "      <td>84.6300</td>\n",
       "      <td>2019-03-11</td>\n",
       "      <td>15:30:00</td>\n",
       "      <td>Ewallet</td>\n",
       "      <td>80.60</td>\n",
       "      <td>4.761905</td>\n",
       "      <td>4.0300</td>\n",
       "      <td>4.4</td>\n",
       "    </tr>\n",
       "  </tbody>\n",
       "</table>\n",
       "</div>"
      ],
      "text/plain": [
       "     Invoice ID Branch city code  Customer type  Gender Product code  \\\n",
       "0   750-67-8428      A        CT1        Member  Female          PD1   \n",
       "1   226-31-3081      C        CT3        Normal  Female          PD2   \n",
       "2   631-41-3108      A        CT1        Normal    Male          PD3   \n",
       "3   123-19-1176      A        CT1        Member    Male          PD1   \n",
       "4   373-73-7910      A        CT1        Normal    Male          PD4   \n",
       "5   699-14-3026      C        CT3        Normal    Male          PD2   \n",
       "6   355-53-5943      A        CT1        Member  Female          PD2   \n",
       "7   315-22-5665      C        CT3        Normal  Female          PD3   \n",
       "8   665-32-9167      A        CT1        Member  Female          PD1   \n",
       "9   692-92-5582      B        CT9        Member  Female          PD5   \n",
       "10  351-62-0822      B        CT9        Member  Female          PD6   \n",
       "11  529-56-3974      B        CT9        Member    Male          PD2   \n",
       "12  365-64-0515      A        CT1        Normal  Female          PD2   \n",
       "13  252-56-2699      A        CT1        Normal    Male          PD5   \n",
       "14  829-34-3910      A        CT1        Normal  Female          PD1   \n",
       "15  299-46-1805      B        CT9        Member  Female          PD4   \n",
       "16  656-95-9349      A        CT1        Member  Female          PD1   \n",
       "17  765-26-6951      A        CT1        Normal    Male          PD4   \n",
       "18  329-62-1586      A        CT1        Normal    Male          PD5   \n",
       "19  319-50-3348      B        CT9        Normal  Female          PD3   \n",
       "\n",
       "   Unit price  Quantity   Tax 5%     Total       Date      Time      Payment  \\\n",
       "0       74.69         7  26.1415  548.9715 2019-01-05  13:08:00      Ewallet   \n",
       "1       15.28         5   3.8200   80.2200 2019-03-08  10:29:00         Cash   \n",
       "2       46.33         7  16.2155  340.5255 2019-03-03  13:23:00  Credit card   \n",
       "3       58.22         8  23.2880  489.0480 2019-01-27  20:33:00      Ewallet   \n",
       "4       86.31         7  30.2085  634.3785 2019-02-08  10:37:00      Ewallet   \n",
       "5       85.39         7  29.8865  627.6165 2019-03-25  18:30:00      Ewallet   \n",
       "6       68.84         6  20.6520  433.6920 2019-02-25  14:36:00      Ewallet   \n",
       "7       73.56        10  36.7800  772.3800 2019-02-24  11:38:00      Ewallet   \n",
       "8           -         2   3.6260   76.1460 2019-01-10  17:15:00  Credit card   \n",
       "9       54.84         3   8.2260  172.7460 2019-02-20  13:27:00  Credit card   \n",
       "10      14.48         4   2.8960   60.8160 2019-02-06  18:07:00      Ewallet   \n",
       "11      25.51         4   5.1020  107.1420 2019-03-09  17:03:00         Cash   \n",
       "12      46.95         5  11.7375  246.4875 2019-02-12  10:25:00      Ewallet   \n",
       "13      43.19        10  21.5950  453.4950 2019-02-07  16:48:00      Ewallet   \n",
       "14      71.38        10  35.6900  749.4900 2019-03-29  19:21:00         Cash   \n",
       "15      93.72         6  28.1160  590.4360 2019-01-15  16:19:00         Cash   \n",
       "16      68.93         7  24.1255  506.6355 2019-03-11  11:03:00  Credit card   \n",
       "17      72.61         6  21.7830  457.4430 2019-01-01  10:39:00  Credit card   \n",
       "18      54.67         3   8.2005  172.2105 2019-01-21  18:00:00  Credit card   \n",
       "19       40.3         2   4.0300   84.6300 2019-03-11  15:30:00      Ewallet   \n",
       "\n",
       "      cogs  gross margin percentage  gross income  Rating  \n",
       "0   522.83                 4.761905       26.1415     9.1  \n",
       "1    76.40                 4.761905        3.8200     9.6  \n",
       "2   324.31                 4.761905       16.2155     7.4  \n",
       "3   465.76                 4.761905       23.2880     8.4  \n",
       "4   604.17                 4.761905       30.2085     5.3  \n",
       "5   597.73                 4.761905       29.8865     4.1  \n",
       "6   413.04                 4.761905       20.6520     5.8  \n",
       "7   735.60                 4.761905       36.7800     8.0  \n",
       "8    72.52                 4.761905        3.6260     7.2  \n",
       "9   164.52                 4.761905        8.2260     5.9  \n",
       "10   57.92                 4.761905        2.8960     4.5  \n",
       "11  102.04                 4.761905        5.1020     6.8  \n",
       "12  234.75                 4.761905       11.7375     7.1  \n",
       "13  431.90                 4.761905       21.5950     NaN  \n",
       "14  713.80                 4.761905       35.6900     5.7  \n",
       "15  562.32                 4.761905       28.1160     4.5  \n",
       "16  482.51                 4.761905       24.1255     4.6  \n",
       "17  435.66                 4.761905       21.7830     6.9  \n",
       "18  164.01                 4.761905        8.2005     8.6  \n",
       "19   80.60                 4.761905        4.0300     4.4  "
      ]
     },
     "execution_count": 319,
     "metadata": {},
     "output_type": "execute_result"
    }
   ],
   "source": [
    "spmarket=pd.read_excel(r'E:\\Odian School 9AM\\Assignment DS16\\Python_mandatory_project_supermarket_sales.xlsx',sheet_name='supermarket_sales')\n",
    "spmarket.head(20)"
   ]
  },
  {
   "cell_type": "code",
   "execution_count": 320,
   "id": "cf781be0",
   "metadata": {},
   "outputs": [
    {
     "data": {
      "text/html": [
       "<div>\n",
       "<style scoped>\n",
       "    .dataframe tbody tr th:only-of-type {\n",
       "        vertical-align: middle;\n",
       "    }\n",
       "\n",
       "    .dataframe tbody tr th {\n",
       "        vertical-align: top;\n",
       "    }\n",
       "\n",
       "    .dataframe thead th {\n",
       "        text-align: right;\n",
       "    }\n",
       "</style>\n",
       "<table border=\"1\" class=\"dataframe\">\n",
       "  <thead>\n",
       "    <tr style=\"text-align: right;\">\n",
       "      <th></th>\n",
       "      <th>City</th>\n",
       "      <th>CITY CODE</th>\n",
       "    </tr>\n",
       "  </thead>\n",
       "  <tbody>\n",
       "    <tr>\n",
       "      <th>0</th>\n",
       "      <td>Yangon</td>\n",
       "      <td>CT1</td>\n",
       "    </tr>\n",
       "    <tr>\n",
       "      <th>1</th>\n",
       "      <td>Naypyitaw</td>\n",
       "      <td>CT3</td>\n",
       "    </tr>\n",
       "    <tr>\n",
       "      <th>2</th>\n",
       "      <td>Mandalay</td>\n",
       "      <td>CT9</td>\n",
       "    </tr>\n",
       "  </tbody>\n",
       "</table>\n",
       "</div>"
      ],
      "text/plain": [
       "        City CITY CODE\n",
       "0     Yangon       CT1\n",
       "1  Naypyitaw       CT3\n",
       "2   Mandalay       CT9"
      ]
     },
     "execution_count": 320,
     "metadata": {},
     "output_type": "execute_result"
    }
   ],
   "source": [
    "city_mapping=pd.read_excel(r'E:\\Odian School 9AM\\Assignment DS16\\Python_mandatory_project_supermarket_sales.xlsx',sheet_name='CITY Mapping')\n",
    "city_mapping"
   ]
  },
  {
   "cell_type": "code",
   "execution_count": 321,
   "id": "e149c56b",
   "metadata": {},
   "outputs": [
    {
     "data": {
      "text/html": [
       "<div>\n",
       "<style scoped>\n",
       "    .dataframe tbody tr th:only-of-type {\n",
       "        vertical-align: middle;\n",
       "    }\n",
       "\n",
       "    .dataframe tbody tr th {\n",
       "        vertical-align: top;\n",
       "    }\n",
       "\n",
       "    .dataframe thead th {\n",
       "        text-align: right;\n",
       "    }\n",
       "</style>\n",
       "<table border=\"1\" class=\"dataframe\">\n",
       "  <thead>\n",
       "    <tr style=\"text-align: right;\">\n",
       "      <th></th>\n",
       "      <th>Product line</th>\n",
       "      <th>Product code</th>\n",
       "    </tr>\n",
       "  </thead>\n",
       "  <tbody>\n",
       "    <tr>\n",
       "      <th>0</th>\n",
       "      <td>Health and beauty</td>\n",
       "      <td>PD1</td>\n",
       "    </tr>\n",
       "    <tr>\n",
       "      <th>1</th>\n",
       "      <td>Electronic accessories</td>\n",
       "      <td>PD2</td>\n",
       "    </tr>\n",
       "    <tr>\n",
       "      <th>2</th>\n",
       "      <td>Home and lifestyle</td>\n",
       "      <td>PD3</td>\n",
       "    </tr>\n",
       "    <tr>\n",
       "      <th>3</th>\n",
       "      <td>Sports and travel</td>\n",
       "      <td>PD4</td>\n",
       "    </tr>\n",
       "    <tr>\n",
       "      <th>4</th>\n",
       "      <td>Food and beverages</td>\n",
       "      <td>PD5</td>\n",
       "    </tr>\n",
       "    <tr>\n",
       "      <th>5</th>\n",
       "      <td>Fashion accessories</td>\n",
       "      <td>PD6</td>\n",
       "    </tr>\n",
       "  </tbody>\n",
       "</table>\n",
       "</div>"
      ],
      "text/plain": [
       "             Product line Product code\n",
       "0       Health and beauty          PD1\n",
       "1  Electronic accessories          PD2\n",
       "2      Home and lifestyle          PD3\n",
       "3       Sports and travel          PD4\n",
       "4      Food and beverages          PD5\n",
       "5     Fashion accessories          PD6"
      ]
     },
     "execution_count": 321,
     "metadata": {},
     "output_type": "execute_result"
    }
   ],
   "source": [
    "product_mapping=pd.read_excel(r'E:\\Odian School 9AM\\Assignment DS16\\Python_mandatory_project_supermarket_sales.xlsx',sheet_name='product Mapping')\n",
    "product_mapping"
   ]
  },
  {
   "cell_type": "markdown",
   "id": "b6290623",
   "metadata": {},
   "source": [
    "## Data Information\n",
    "\n"
   ]
  },
  {
   "cell_type": "code",
   "execution_count": 322,
   "id": "2c10011e",
   "metadata": {},
   "outputs": [
    {
     "name": "stdout",
     "output_type": "stream",
     "text": [
      "<class 'pandas.core.frame.DataFrame'>\n",
      "RangeIndex: 1000 entries, 0 to 999\n",
      "Data columns (total 17 columns):\n",
      " #   Column                   Non-Null Count  Dtype         \n",
      "---  ------                   --------------  -----         \n",
      " 0   Invoice ID               1000 non-null   object        \n",
      " 1   Branch                   1000 non-null   object        \n",
      " 2   city code                1000 non-null   object        \n",
      " 3   Customer type            1000 non-null   object        \n",
      " 4   Gender                   1000 non-null   object        \n",
      " 5   Product code             1000 non-null   object        \n",
      " 6   Unit price               996 non-null    object        \n",
      " 7   Quantity                 1000 non-null   int64         \n",
      " 8   Tax 5%                   1000 non-null   float64       \n",
      " 9   Total                    1000 non-null   float64       \n",
      " 10  Date                     1000 non-null   datetime64[ns]\n",
      " 11  Time                     1000 non-null   object        \n",
      " 12  Payment                  1000 non-null   object        \n",
      " 13  cogs                     1000 non-null   float64       \n",
      " 14  gross margin percentage  1000 non-null   float64       \n",
      " 15  gross income             1000 non-null   float64       \n",
      " 16  Rating                   993 non-null    float64       \n",
      "dtypes: datetime64[ns](1), float64(6), int64(1), object(9)\n",
      "memory usage: 132.9+ KB\n"
     ]
    }
   ],
   "source": [
    "spmarket.info()"
   ]
  },
  {
   "cell_type": "markdown",
   "id": "85c0a5f5",
   "metadata": {},
   "source": [
    "## Q1.is your supermarket more popular with males or females"
   ]
  },
  {
   "cell_type": "code",
   "execution_count": 323,
   "id": "32ca5b47",
   "metadata": {},
   "outputs": [
    {
     "data": {
      "text/plain": [
       "Text(0.5, 1.0, 'Gender_count')"
      ]
     },
     "execution_count": 323,
     "metadata": {},
     "output_type": "execute_result"
    },
    {
     "data": {
      "image/png": "[encoded data removed]",
      "text/plain": [
       "<Figure size 432x288 with 1 Axes>"
      ]
     },
     "metadata": {},
     "output_type": "display_data"
    }
   ],
   "source": [
    "sns.countplot(x='Gender',data=spmarket).set_title('Gender_count')"
   ]
  },
  {
   "cell_type": "markdown",
   "id": "0e8974b8",
   "metadata": {},
   "source": [
    "Ans:This Plot show males or females are same popular in supermarket not a big difference.\n"
   ]
  },
  {
   "cell_type": "markdown",
   "id": "4de3340c",
   "metadata": {},
   "source": [
    "## Q2.what does the customer rating look like and can you also comment on its distribution"
   ]
  },
  {
   "cell_type": "code",
   "execution_count": 324,
   "id": "83ce676d",
   "metadata": {},
   "outputs": [
    {
     "data": {
      "text/plain": [
       "<AxesSubplot:xlabel='Customer type', ylabel='Rating'>"
      ]
     },
     "execution_count": 324,
     "metadata": {},
     "output_type": "execute_result"
    },
    {
     "data": {
      "image/png": "[encoded data removed]",
      "text/plain": [
       "<Figure size 432x288 with 1 Axes>"
      ]
     },
     "metadata": {},
     "output_type": "display_data"
    }
   ],
   "source": [
    "sns.set_style(\"whitegrid\")\n",
    "sns.boxplot(x='Customer type',y='Rating',data=spmarket)"
   ]
  },
  {
   "cell_type": "markdown",
   "id": "87512ca5",
   "metadata": {},
   "source": [
    "Ans:This rating shows member or normal are same rating."
   ]
  },
  {
   "cell_type": "markdown",
   "id": "f6fc7d2f",
   "metadata": {},
   "source": [
    "## Q3.What can you say about the aggregate sales across the branches?"
   ]
  },
  {
   "cell_type": "code",
   "execution_count": 325,
   "id": "72d6c674",
   "metadata": {},
   "outputs": [
    {
     "data": {
      "text/plain": [
       "A    340\n",
       "B    332\n",
       "C    328\n",
       "Name: Branch, dtype: int64"
      ]
     },
     "execution_count": 325,
     "metadata": {},
     "output_type": "execute_result"
    },
    {
     "data": {
      "image/png": "[encoded data removed]",
      "text/plain": [
       "<Figure size 432x288 with 1 Axes>"
      ]
     },
     "metadata": {},
     "output_type": "display_data"
    }
   ],
   "source": [
    "sns.set_style(\"whitegrid\")\n",
    "sns.countplot(spmarket['Branch'])\n",
    "spmarket['Branch'].value_counts()"
   ]
  },
  {
   "cell_type": "markdown",
   "id": "6b851765",
   "metadata": {},
   "source": [
    "Ans: There is not much difference in sales across the 3 branches of A, B and C. The sales in branch A is a bit higher than the rest of the branches."
   ]
  },
  {
   "cell_type": "markdown",
   "id": "61d351fd",
   "metadata": {},
   "source": [
    "## Q4.Which is the most popular payment method used by customers?"
   ]
  },
  {
   "cell_type": "code",
   "execution_count": 326,
   "id": "de5069a7",
   "metadata": {},
   "outputs": [
    {
     "data": {
      "text/plain": [
       "<AxesSubplot:xlabel='Payment', ylabel='count'>"
      ]
     },
     "execution_count": 326,
     "metadata": {},
     "output_type": "execute_result"
    },
    {
     "data": {
      "image/png": "[encoded data removed]",
      "text/plain": [
       "<Figure size 432x288 with 1 Axes>"
      ]
     },
     "metadata": {},
     "output_type": "display_data"
    }
   ],
   "source": [
    "sns.set_style(\"whitegrid\")\n",
    "sns.countplot(spmarket['Payment'])"
   ]
  },
  {
   "cell_type": "markdown",
   "id": "509d6f89",
   "metadata": {},
   "source": [
    "Ans:The most popular payment method is in-fact E-wallet and not credit cards.Cash payment is also popular."
   ]
  },
  {
   "cell_type": "markdown",
   "id": "38812ba3",
   "metadata": {},
   "source": [
    "## Q5.Does gross income affect customer rating?"
   ]
  },
  {
   "cell_type": "code",
   "execution_count": 327,
   "id": "0c4915f1",
   "metadata": {},
   "outputs": [
    {
     "data": {
      "text/plain": [
       "<AxesSubplot:xlabel='Rating', ylabel='gross income'>"
      ]
     },
     "execution_count": 327,
     "metadata": {},
     "output_type": "execute_result"
    },
    {
     "data": {
      "image/png": "[encoded data removed]",
      "text/plain": [
       "<Figure size 432x288 with 1 Axes>"
      ]
     },
     "metadata": {},
     "output_type": "display_data"
    }
   ],
   "source": [
    "sns.set_style(\"whitegrid\")\n",
    "sns.scatterplot(x='Rating',y='gross income',hue='Gender',data=spmarket)"
   ]
  },
  {
   "cell_type": "markdown",
   "id": "ebabae82",
   "metadata": {},
   "source": [
    "Ans:As you can see from the scatter plot and the show the males or females which is pretty flat that there is no relationship between gross income of a customer and his rating."
   ]
  },
  {
   "cell_type": "markdown",
   "id": "36df3f09",
   "metadata": {},
   "source": [
    "## Q6.Which is the most profitable branch?"
   ]
  },
  {
   "cell_type": "code",
   "execution_count": 328,
   "id": "c2f44df7",
   "metadata": {},
   "outputs": [
    {
     "data": {
      "text/plain": [
       "<AxesSubplot:xlabel='Branch', ylabel='gross income'>"
      ]
     },
     "execution_count": 328,
     "metadata": {},
     "output_type": "execute_result"
    },
    {
     "data": {
      "image/png": "[encoded data removed]",
      "text/plain": [
       "<Figure size 432x288 with 1 Axes>"
      ]
     },
     "metadata": {},
     "output_type": "display_data"
    }
   ],
   "source": [
    "sns.set_style(\"whitegrid\")\n",
    "sns.boxplot(x=spmarket['Branch'],y=spmarket['gross income'])"
   ]
  },
  {
   "cell_type": "markdown",
   "id": "3e59a703",
   "metadata": {},
   "source": [
    "Ans.There is not much difference in gross income by branches at an average level. Branch C has a slightly higher income than A or B.As observed earlier,though branch A has slightly higher sales than the rest,C i.e. C is the most profitable branch in terms of gross income."
   ]
  },
  {
   "cell_type": "markdown",
   "id": "a08c5471",
   "metadata": {},
   "source": [
    "## Q7.Create a boxplot between gender and gross income and explain the result?"
   ]
  },
  {
   "cell_type": "code",
   "execution_count": 329,
   "id": "3fe942c4",
   "metadata": {},
   "outputs": [
    {
     "data": {
      "text/plain": [
       "<AxesSubplot:xlabel='Gender', ylabel='gross income'>"
      ]
     },
     "execution_count": 329,
     "metadata": {},
     "output_type": "execute_result"
    },
    {
     "data": {
      "image/png": "[encoded data removed]",
      "text/plain": [
       "<Figure size 432x288 with 1 Axes>"
      ]
     },
     "metadata": {},
     "output_type": "display_data"
    }
   ],
   "source": [
    "sns.set_style(\"whitegrid\")\n",
    "sns.boxplot(x=spmarket['Gender'],y=spmarket['gross income'])"
   ]
  },
  {
   "cell_type": "markdown",
   "id": "552890bb",
   "metadata": {},
   "source": [
    "Ans:Gross income is similar for both male and female, though female customers spend a bit higher at the 75th percentile."
   ]
  },
  {
   "cell_type": "markdown",
   "id": "56243f12",
   "metadata": {},
   "source": [
    "## Q8.Can you see any time trend in gross income?"
   ]
  },
  {
   "cell_type": "markdown",
   "id": "da4a7548",
   "metadata": {},
   "source": [
    "Ans:There are multiple dates per customers, so we have to summarize the data to find the time trend of gross income. We will use ‘date’ as the index for this and for summarization we will use mean value of the variables.\n",
    "\n"
   ]
  },
  {
   "cell_type": "code",
   "execution_count": 330,
   "id": "d2e8b7ca",
   "metadata": {},
   "outputs": [
    {
     "data": {
      "text/plain": [
       "<AxesSubplot:xlabel='Date', ylabel='gross income'>"
      ]
     },
     "execution_count": 330,
     "metadata": {},
     "output_type": "execute_result"
    },
    {
     "data": {
      "image/png": "[encoded data removed]",
      "text/plain": [
       "<Figure size 432x288 with 1 Axes>"
      ]
     },
     "metadata": {},
     "output_type": "display_data"
    }
   ],
   "source": [
    "sns.set_style(\"whitegrid\")\n",
    "sns.lineplot(x=spmarket.groupby(spmarket['Date']).mean().index,\n",
    "            y=spmarket.groupby(spmarket['Date']).mean()['gross income'])"
   ]
  },
  {
   "cell_type": "markdown",
   "id": "980fee93",
   "metadata": {},
   "source": [
    "Ans: No particular time trend is observed except for some days when the gross income is pretty high or pretty low. Overall it remains at a certain average level."
   ]
  },
  {
   "cell_type": "markdown",
   "id": "21d62af5",
   "metadata": {},
   "source": [
    "## Q9.What is the spending pattern of both males and females, meaning in which category do they spend more?"
   ]
  },
  {
   "cell_type": "code",
   "execution_count": 331,
   "id": "8e1f9091",
   "metadata": {},
   "outputs": [
    {
     "data": {
      "text/plain": [
       "<AxesSubplot:title={'center':'Total Monthly transaction by Gender'}, xlabel='Product code', ylabel='count'>"
      ]
     },
     "execution_count": 331,
     "metadata": {},
     "output_type": "execute_result"
    },
    {
     "data": {
      "image/png": "[encoded data removed]",
      "text/plain": [
       "<Figure size 864x432 with 1 Axes>"
      ]
     },
     "metadata": {},
     "output_type": "display_data"
    }
   ],
   "source": [
    "sns.set_style(\"whitegrid\")\n",
    "plt.figure(figsize=(12, 6))\n",
    "plt.title('Total Monthly transaction by Gender')\n",
    "sns.countplot(spmarket['Product code'], hue = spmarket.Gender)"
   ]
  },
  {
   "cell_type": "markdown",
   "id": "51bba7ac",
   "metadata": {},
   "source": [
    "Ans: Females spend on 'PD6' the most and for males it is 'PD1'. Females also spend more on 'PD2'."
   ]
  },
  {
   "cell_type": "markdown",
   "id": "0d35ec10",
   "metadata": {},
   "source": [
    "## Q10.How many products are bought by customers?"
   ]
  },
  {
   "cell_type": "code",
   "execution_count": 345,
   "id": "5002d63c",
   "metadata": {},
   "outputs": [
    {
     "data": {
      "text/plain": [
       "<AxesSubplot:xlabel='Quantity', ylabel='Count'>"
      ]
     },
     "execution_count": 345,
     "metadata": {},
     "output_type": "execute_result"
    },
    {
     "data": {
      "image/png": "[encoded data removed]",
      "text/plain": [
       "<Figure size 864x432 with 1 Axes>"
      ]
     },
     "metadata": {},
     "output_type": "display_data"
    }
   ],
   "source": [
    "sns.set_style(\"whitegrid\")\n",
    "plt.figure(figsize = (12,6))\n",
    "sns.histplot(x=spmarket['Quantity'])"
   ]
  },
  {
   "cell_type": "markdown",
   "id": "142741c1",
   "metadata": {},
   "source": [
    "Ans: Most of the customers buy 10 quantities."
   ]
  },
  {
   "cell_type": "markdown",
   "id": "0510b72b",
   "metadata": {},
   "source": [
    "## Q11.Which day of the week has maximum sales?"
   ]
  },
  {
   "cell_type": "markdown",
   "id": "1e11443f",
   "metadata": {},
   "source": [
    "Let us now explore if there is any particular day of the week when the sales is higher."
   ]
  },
  {
   "cell_type": "code",
   "execution_count": 335,
   "id": "4507b02e",
   "metadata": {},
   "outputs": [],
   "source": [
    "from datetime import time\n",
    "spmarket['Date'] = pd.to_datetime(spmarket['Date'], errors='coerce')\n",
    "spmarket['Date'] = spmarket['Date'].dt.strftime('%m/%d/%y')"
   ]
  },
  {
   "cell_type": "code",
   "execution_count": 337,
   "id": "6a98cb72",
   "metadata": {},
   "outputs": [
    {
     "data": {
      "text/html": [
       "<div>\n",
       "<style scoped>\n",
       "    .dataframe tbody tr th:only-of-type {\n",
       "        vertical-align: middle;\n",
       "    }\n",
       "\n",
       "    .dataframe tbody tr th {\n",
       "        vertical-align: top;\n",
       "    }\n",
       "\n",
       "    .dataframe thead th {\n",
       "        text-align: right;\n",
       "    }\n",
       "</style>\n",
       "<table border=\"1\" class=\"dataframe\">\n",
       "  <thead>\n",
       "    <tr style=\"text-align: right;\">\n",
       "      <th></th>\n",
       "      <th>datetime</th>\n",
       "      <th>month</th>\n",
       "      <th>gross income</th>\n",
       "      <th>Rating</th>\n",
       "      <th>Branch</th>\n",
       "      <th>hours</th>\n",
       "      <th>weekday</th>\n",
       "    </tr>\n",
       "  </thead>\n",
       "  <tbody>\n",
       "    <tr>\n",
       "      <th>0</th>\n",
       "      <td>2019-01-05 13:08:00</td>\n",
       "      <td>January</td>\n",
       "      <td>26.1415</td>\n",
       "      <td>9.1</td>\n",
       "      <td>A</td>\n",
       "      <td>13</td>\n",
       "      <td>Saturday</td>\n",
       "    </tr>\n",
       "    <tr>\n",
       "      <th>1</th>\n",
       "      <td>2019-03-08 10:29:00</td>\n",
       "      <td>March</td>\n",
       "      <td>3.8200</td>\n",
       "      <td>9.6</td>\n",
       "      <td>C</td>\n",
       "      <td>10</td>\n",
       "      <td>Friday</td>\n",
       "    </tr>\n",
       "    <tr>\n",
       "      <th>2</th>\n",
       "      <td>2019-03-03 13:23:00</td>\n",
       "      <td>March</td>\n",
       "      <td>16.2155</td>\n",
       "      <td>7.4</td>\n",
       "      <td>A</td>\n",
       "      <td>13</td>\n",
       "      <td>Sunday</td>\n",
       "    </tr>\n",
       "    <tr>\n",
       "      <th>3</th>\n",
       "      <td>2019-01-27 20:33:00</td>\n",
       "      <td>January</td>\n",
       "      <td>23.2880</td>\n",
       "      <td>8.4</td>\n",
       "      <td>A</td>\n",
       "      <td>20</td>\n",
       "      <td>Sunday</td>\n",
       "    </tr>\n",
       "    <tr>\n",
       "      <th>4</th>\n",
       "      <td>2019-02-08 10:37:00</td>\n",
       "      <td>February</td>\n",
       "      <td>30.2085</td>\n",
       "      <td>5.3</td>\n",
       "      <td>A</td>\n",
       "      <td>10</td>\n",
       "      <td>Friday</td>\n",
       "    </tr>\n",
       "  </tbody>\n",
       "</table>\n",
       "</div>"
      ],
      "text/plain": [
       "             datetime     month  gross income  Rating Branch  hours   weekday\n",
       "0 2019-01-05 13:08:00   January       26.1415     9.1      A     13  Saturday\n",
       "1 2019-03-08 10:29:00     March        3.8200     9.6      C     10    Friday\n",
       "2 2019-03-03 13:23:00     March       16.2155     7.4      A     13    Sunday\n",
       "3 2019-01-27 20:33:00   January       23.2880     8.4      A     20    Sunday\n",
       "4 2019-02-08 10:37:00  February       30.2085     5.3      A     10    Friday"
      ]
     },
     "execution_count": 337,
     "metadata": {},
     "output_type": "execute_result"
    }
   ],
   "source": [
    "spmarket['datetime'] = spmarket['Date'].map(str) + '-' + spmarket['Time'].map(str)\n",
    "spmarket['datetime'] = pd.to_datetime(spmarket['datetime'])\n",
    "\n",
    "\n",
    "datetime_month = spmarket['datetime'].dt.month\n",
    "dt_month_cat = datetime_month.astype('category')\n",
    "dt_month_cat = dt_month_cat.cat.rename_categories({\n",
    "    1 : 'January',\n",
    "    2 : 'February',\n",
    "    3 : 'March'\n",
    "})\n",
    "\n",
    "datetime_time_frame = pd.concat([spmarket['datetime'], dt_month_cat], axis = 1, ignore_index = True)\n",
    "datetime_time_frame = datetime_time_frame.rename(columns = {0 : 'datetime', 1 : 'month'})\n",
    "\n",
    "# Day of Week\n",
    "\n",
    "dt_week = spmarket['datetime'].dt.weekday\n",
    "dt_week_cat = dt_week.astype('category')\n",
    "dt_week_cat = dt_week_cat.cat.rename_categories({\n",
    "    0 : 'Monday',\n",
    "    1 : 'Tuesday',\n",
    "    2 : 'Wednesday',\n",
    "    3 : 'Thursday',\n",
    "    4 : 'Friday',\n",
    "    5 : 'Saturday',\n",
    "    6 : 'Sunday'\n",
    "})\n",
    "\n",
    "# Inserting other features to groupby\n",
    "\n",
    "datetime_time_frame = pd.concat([datetime_time_frame, spmarket['gross income'], spmarket['Rating']], axis = 1)\n",
    "datetime_time_frame.head()\n",
    "\n",
    "datetime_time_frame['Branch'] = spmarket['Branch']\n",
    "datetime_time_frame.head()\n",
    "\n",
    "# Preparing DataFrame\n",
    "\n",
    "m_b_income_r = datetime_time_frame.groupby(by = ['month', 'Branch']).mean()\n",
    "\n",
    "# Hours\n",
    "\n",
    "datetime_time_frame['hours'] = datetime_time_frame['datetime'].dt.hour\n",
    "datetime_time_frame.head()\n",
    "datetime_time_frame['weekday'] = dt_week_cat\n",
    "datetime_time_frame.head()\n"
   ]
  },
  {
   "cell_type": "code",
   "execution_count": 338,
   "id": "cc51cea2",
   "metadata": {},
   "outputs": [
    {
     "data": {
      "text/plain": [
       "<AxesSubplot:title={'center':'Daily Sales by Day of the Week'}, xlabel='datetime', ylabel='count'>"
      ]
     },
     "execution_count": 338,
     "metadata": {},
     "output_type": "execute_result"
    },
    {
     "data": {
      "image/png": "[encoded data removed]",
      "text/plain": [
       "<Figure size 576x432 with 1 Axes>"
      ]
     },
     "metadata": {},
     "output_type": "display_data"
    }
   ],
   "source": [
    "sns.set_style(\"whitegrid\")\n",
    "plt.figure(figsize=(8, 6))\n",
    "plt.title('Daily Sales by Day of the Week')\n",
    "sns.countplot(dt_week_cat)"
   ]
  },
  {
   "cell_type": "markdown",
   "id": "0f3e34db",
   "metadata": {},
   "source": [
    "Ans: Sales is highest on Saturdays probably because it is the weekend. Interestingly,Tuesdays is a close second.Mondays is the lowest in sales, probably because it is start of the working week."
   ]
  },
  {
   "cell_type": "markdown",
   "id": "580d3563",
   "metadata": {},
   "source": [
    "## Q12.Which hour of the day is busiest?"
   ]
  },
  {
   "cell_type": "code",
   "execution_count": 339,
   "id": "57d61601",
   "metadata": {},
   "outputs": [
    {
     "data": {
      "text/plain": [
       "Text(0.5, 1.0, 'Product Sales per Hour')"
      ]
     },
     "execution_count": 339,
     "metadata": {},
     "output_type": "execute_result"
    },
    {
     "data": {
      "image/png": "[encoded data removed]",
      "text/plain": [
       "<Figure size 432x288 with 1 Axes>"
      ]
     },
     "metadata": {},
     "output_type": "display_data"
    }
   ],
   "source": [
    "sns.set_style(\"whitegrid\")\n",
    "sns.lineplot(x=datetime_time_frame[\"hours\"],  y = 'Quantity',data =spmarket).set_title(\"Product Sales per Hour\")"
   ]
  },
  {
   "cell_type": "markdown",
   "id": "dd133e62",
   "metadata": {},
   "source": [
    "Ans:Peak is observed in the 14th hour i.e 2 pm of the day. Hence, sales is typically higher in the afternoons."
   ]
  },
  {
   "cell_type": "markdown",
   "id": "b086a4af",
   "metadata": {},
   "source": [
    "## Q13. Which product line should the supermarket focus on?\n",
    "\n"
   ]
  },
  {
   "cell_type": "markdown",
   "id": "73174463",
   "metadata": {},
   "source": [
    "To answer this question, let us look at 2 graphs below:"
   ]
  },
  {
   "cell_type": "markdown",
   "id": "20222c63",
   "metadata": {},
   "source": [
    "a) Rating of products: Rating is similar across products and at around 7.\n",
    "\n"
   ]
  },
  {
   "cell_type": "code",
   "execution_count": 222,
   "id": "9b32ff73",
   "metadata": {},
   "outputs": [
    {
     "data": {
      "text/plain": [
       "<AxesSubplot:xlabel='Rating', ylabel='Product code'>"
      ]
     },
     "execution_count": 222,
     "metadata": {},
     "output_type": "execute_result"
    },
    {
     "data": {
      "image/png": "[encoded data removed]",
      "text/plain": [
       "<Figure size 864x432 with 1 Axes>"
      ]
     },
     "metadata": {},
     "output_type": "display_data"
    }
   ],
   "source": [
    "sns.set_style(\"whitegrid\")\n",
    "plt.figure(figsize = (12,6))\n",
    "sns.barplot(y = spmarket['Product code'], x = spmarket['Rating'])\n"
   ]
  },
  {
   "cell_type": "markdown",
   "id": "033908b6",
   "metadata": {},
   "source": [
    "b) Quantity purchased by product: The mean quantity is lower for ‘fashion accessories’ and ‘food and beverages’"
   ]
  },
  {
   "cell_type": "code",
   "execution_count": 223,
   "id": "2cadedfc",
   "metadata": {},
   "outputs": [
    {
     "data": {
      "text/plain": [
       "<AxesSubplot:xlabel='Quantity', ylabel='Product code'>"
      ]
     },
     "execution_count": 223,
     "metadata": {},
     "output_type": "execute_result"
    },
    {
     "data": {
      "image/png": "[encoded data removed]",
      "text/plain": [
       "<Figure size 432x288 with 1 Axes>"
      ]
     },
     "metadata": {},
     "output_type": "display_data"
    }
   ],
   "source": [
    "sns.set_style(\"whitegrid\")\n",
    "sns.boxenplot(y = 'Product code', x = 'Quantity', data=spmarket)"
   ]
  },
  {
   "cell_type": "markdown",
   "id": "5f4fee39",
   "metadata": {},
   "source": [
    "Ans: Though the rating for PD6 ‘fashion accessories’ and PD5 ‘food and beverages’ is high but quantity purchased is low. Hence, supply for these products need to be increased."
   ]
  },
  {
   "cell_type": "markdown",
   "id": "2f6fa3b9",
   "metadata": {},
   "source": [
    "## Q14. Which city should be chosen for expansion and which products should it focus on?"
   ]
  },
  {
   "cell_type": "code",
   "execution_count": 280,
   "id": "8b4a4fff",
   "metadata": {
    "scrolled": true
   },
   "outputs": [
    {
     "data": {
      "text/plain": [
       "Text(0, 0.5, 'Gross income')"
      ]
     },
     "execution_count": 280,
     "metadata": {},
     "output_type": "execute_result"
    },
    {
     "data": {
      "image/png": "[encoded data removed]",
      "text/plain": [
       "<Figure size 1296x360 with 1 Axes>"
      ]
     },
     "metadata": {},
     "output_type": "display_data"
    }
   ],
   "source": [
    "sns.set_style(\"whitegrid\")\n",
    "plt.figure(figsize=(18,5))\n",
    "sns.barplot(spmarket['city code '],spmarket['gross income'],palette='Set1')\n",
    "plt.xlabel('City name',fontsize='16')\n",
    "plt.ylabel('Gross income',fontsize='16')\n"
   ]
  },
  {
   "cell_type": "markdown",
   "id": "45f9f18f",
   "metadata": {},
   "source": [
    "Ans: It is obvious that CT3 'Naypyitaw' is the most profitable city, hence the expansion plan should be based on this city."
   ]
  },
  {
   "cell_type": "markdown",
   "id": "141423aa",
   "metadata": {},
   "source": [
    "Let us look at the products sold at ‘Naypyitaw’"
   ]
  },
  {
   "cell_type": "code",
   "execution_count": 312,
   "id": "9b2cc3dd",
   "metadata": {},
   "outputs": [
    {
     "data": {
      "image/png": "[encoded data removed]",
      "text/plain": [
       "<Figure size 750x500 with 1 Axes>"
      ]
     },
     "metadata": {},
     "output_type": "display_data"
    }
   ],
   "source": [
    "plt.figure(dpi=125)\n",
    "sns.countplot(y ='Product code', hue = \"city code \", data = spmarket) \n",
    "plt.xlabel('Count')\n",
    "plt.show()"
   ]
  },
  {
   "cell_type": "markdown",
   "id": "a6dd3b3e",
   "metadata": {},
   "source": [
    "Ans: PD6'Fashion accessories' and PD5 'food and beverages' are the most sold product in CT3 'Naypyitaw' and these products should be focused on for expansion along with PD2'electronic accessories'."
   ]
  },
  {
   "cell_type": "code",
   "execution_count": 313,
   "id": "4a632b7b",
   "metadata": {},
   "outputs": [],
   "source": [
    "#Drop old Date and Time columns because solve the 11th que. i am creating new datetime combine column thats it.\n",
    "spmarket=spmarket.drop('Date',axis=1)\n",
    "spmarket=spmarket.drop('Time',axis=1)"
   ]
  },
  {
   "cell_type": "code",
   "execution_count": 315,
   "id": "bf38c9ea",
   "metadata": {},
   "outputs": [
    {
     "data": {
      "text/html": [
       "<div>\n",
       "<style scoped>\n",
       "    .dataframe tbody tr th:only-of-type {\n",
       "        vertical-align: middle;\n",
       "    }\n",
       "\n",
       "    .dataframe tbody tr th {\n",
       "        vertical-align: top;\n",
       "    }\n",
       "\n",
       "    .dataframe thead th {\n",
       "        text-align: right;\n",
       "    }\n",
       "</style>\n",
       "<table border=\"1\" class=\"dataframe\">\n",
       "  <thead>\n",
       "    <tr style=\"text-align: right;\">\n",
       "      <th></th>\n",
       "      <th>Invoice ID</th>\n",
       "      <th>Branch</th>\n",
       "      <th>city code</th>\n",
       "      <th>Customer type</th>\n",
       "      <th>Gender</th>\n",
       "      <th>Product code</th>\n",
       "      <th>Unit price</th>\n",
       "      <th>Quantity</th>\n",
       "      <th>Tax 5%</th>\n",
       "      <th>Total</th>\n",
       "      <th>Payment</th>\n",
       "      <th>cogs</th>\n",
       "      <th>gross margin percentage</th>\n",
       "      <th>gross income</th>\n",
       "      <th>Rating</th>\n",
       "      <th>datetime</th>\n",
       "    </tr>\n",
       "  </thead>\n",
       "  <tbody>\n",
       "    <tr>\n",
       "      <th>0</th>\n",
       "      <td>750-67-8428</td>\n",
       "      <td>A</td>\n",
       "      <td>CT1</td>\n",
       "      <td>Member</td>\n",
       "      <td>Female</td>\n",
       "      <td>PD1</td>\n",
       "      <td>74.69</td>\n",
       "      <td>7</td>\n",
       "      <td>26.1415</td>\n",
       "      <td>548.9715</td>\n",
       "      <td>Ewallet</td>\n",
       "      <td>522.83</td>\n",
       "      <td>4.761905</td>\n",
       "      <td>26.1415</td>\n",
       "      <td>9.1</td>\n",
       "      <td>2019-01-05 13:08:00</td>\n",
       "    </tr>\n",
       "    <tr>\n",
       "      <th>1</th>\n",
       "      <td>226-31-3081</td>\n",
       "      <td>C</td>\n",
       "      <td>CT3</td>\n",
       "      <td>Normal</td>\n",
       "      <td>Female</td>\n",
       "      <td>PD2</td>\n",
       "      <td>15.28</td>\n",
       "      <td>5</td>\n",
       "      <td>3.8200</td>\n",
       "      <td>80.2200</td>\n",
       "      <td>Cash</td>\n",
       "      <td>76.40</td>\n",
       "      <td>4.761905</td>\n",
       "      <td>3.8200</td>\n",
       "      <td>9.6</td>\n",
       "      <td>2019-03-08 10:29:00</td>\n",
       "    </tr>\n",
       "    <tr>\n",
       "      <th>2</th>\n",
       "      <td>631-41-3108</td>\n",
       "      <td>A</td>\n",
       "      <td>CT1</td>\n",
       "      <td>Normal</td>\n",
       "      <td>Male</td>\n",
       "      <td>PD3</td>\n",
       "      <td>46.33</td>\n",
       "      <td>7</td>\n",
       "      <td>16.2155</td>\n",
       "      <td>340.5255</td>\n",
       "      <td>Credit card</td>\n",
       "      <td>324.31</td>\n",
       "      <td>4.761905</td>\n",
       "      <td>16.2155</td>\n",
       "      <td>7.4</td>\n",
       "      <td>2019-03-03 13:23:00</td>\n",
       "    </tr>\n",
       "    <tr>\n",
       "      <th>3</th>\n",
       "      <td>123-19-1176</td>\n",
       "      <td>A</td>\n",
       "      <td>CT1</td>\n",
       "      <td>Member</td>\n",
       "      <td>Male</td>\n",
       "      <td>PD1</td>\n",
       "      <td>58.22</td>\n",
       "      <td>8</td>\n",
       "      <td>23.2880</td>\n",
       "      <td>489.0480</td>\n",
       "      <td>Ewallet</td>\n",
       "      <td>465.76</td>\n",
       "      <td>4.761905</td>\n",
       "      <td>23.2880</td>\n",
       "      <td>8.4</td>\n",
       "      <td>2019-01-27 20:33:00</td>\n",
       "    </tr>\n",
       "    <tr>\n",
       "      <th>4</th>\n",
       "      <td>373-73-7910</td>\n",
       "      <td>A</td>\n",
       "      <td>CT1</td>\n",
       "      <td>Normal</td>\n",
       "      <td>Male</td>\n",
       "      <td>PD4</td>\n",
       "      <td>86.31</td>\n",
       "      <td>7</td>\n",
       "      <td>30.2085</td>\n",
       "      <td>634.3785</td>\n",
       "      <td>Ewallet</td>\n",
       "      <td>604.17</td>\n",
       "      <td>4.761905</td>\n",
       "      <td>30.2085</td>\n",
       "      <td>5.3</td>\n",
       "      <td>2019-02-08 10:37:00</td>\n",
       "    </tr>\n",
       "    <tr>\n",
       "      <th>...</th>\n",
       "      <td>...</td>\n",
       "      <td>...</td>\n",
       "      <td>...</td>\n",
       "      <td>...</td>\n",
       "      <td>...</td>\n",
       "      <td>...</td>\n",
       "      <td>...</td>\n",
       "      <td>...</td>\n",
       "      <td>...</td>\n",
       "      <td>...</td>\n",
       "      <td>...</td>\n",
       "      <td>...</td>\n",
       "      <td>...</td>\n",
       "      <td>...</td>\n",
       "      <td>...</td>\n",
       "      <td>...</td>\n",
       "    </tr>\n",
       "    <tr>\n",
       "      <th>995</th>\n",
       "      <td>233-67-5758</td>\n",
       "      <td>C</td>\n",
       "      <td>CT3</td>\n",
       "      <td>Normal</td>\n",
       "      <td>Male</td>\n",
       "      <td>PD1</td>\n",
       "      <td>40.35</td>\n",
       "      <td>1</td>\n",
       "      <td>2.0175</td>\n",
       "      <td>42.3675</td>\n",
       "      <td>Ewallet</td>\n",
       "      <td>40.35</td>\n",
       "      <td>4.761905</td>\n",
       "      <td>2.0175</td>\n",
       "      <td>6.2</td>\n",
       "      <td>2019-01-29 13:46:00</td>\n",
       "    </tr>\n",
       "    <tr>\n",
       "      <th>996</th>\n",
       "      <td>303-96-2227</td>\n",
       "      <td>B</td>\n",
       "      <td>CT9</td>\n",
       "      <td>Normal</td>\n",
       "      <td>Female</td>\n",
       "      <td>PD3</td>\n",
       "      <td>97.38</td>\n",
       "      <td>10</td>\n",
       "      <td>48.6900</td>\n",
       "      <td>1022.4900</td>\n",
       "      <td>Ewallet</td>\n",
       "      <td>973.80</td>\n",
       "      <td>4.761905</td>\n",
       "      <td>48.6900</td>\n",
       "      <td>4.4</td>\n",
       "      <td>2019-03-02 17:16:00</td>\n",
       "    </tr>\n",
       "    <tr>\n",
       "      <th>997</th>\n",
       "      <td>727-02-1313</td>\n",
       "      <td>A</td>\n",
       "      <td>CT1</td>\n",
       "      <td>Member</td>\n",
       "      <td>Male</td>\n",
       "      <td>PD5</td>\n",
       "      <td>31.84</td>\n",
       "      <td>1</td>\n",
       "      <td>1.5920</td>\n",
       "      <td>33.4320</td>\n",
       "      <td>Cash</td>\n",
       "      <td>31.84</td>\n",
       "      <td>4.761905</td>\n",
       "      <td>1.5920</td>\n",
       "      <td>7.7</td>\n",
       "      <td>2019-02-09 13:22:00</td>\n",
       "    </tr>\n",
       "    <tr>\n",
       "      <th>998</th>\n",
       "      <td>347-56-2442</td>\n",
       "      <td>A</td>\n",
       "      <td>CT1</td>\n",
       "      <td>Normal</td>\n",
       "      <td>Male</td>\n",
       "      <td>PD3</td>\n",
       "      <td>65.82</td>\n",
       "      <td>1</td>\n",
       "      <td>3.2910</td>\n",
       "      <td>69.1110</td>\n",
       "      <td>Cash</td>\n",
       "      <td>65.82</td>\n",
       "      <td>4.761905</td>\n",
       "      <td>3.2910</td>\n",
       "      <td>4.1</td>\n",
       "      <td>2019-02-22 15:33:00</td>\n",
       "    </tr>\n",
       "    <tr>\n",
       "      <th>999</th>\n",
       "      <td>849-09-3807</td>\n",
       "      <td>A</td>\n",
       "      <td>CT1</td>\n",
       "      <td>Member</td>\n",
       "      <td>Female</td>\n",
       "      <td>PD6</td>\n",
       "      <td>88.34</td>\n",
       "      <td>7</td>\n",
       "      <td>30.9190</td>\n",
       "      <td>649.2990</td>\n",
       "      <td>Cash</td>\n",
       "      <td>618.38</td>\n",
       "      <td>4.761905</td>\n",
       "      <td>30.9190</td>\n",
       "      <td>6.6</td>\n",
       "      <td>2019-02-18 13:28:00</td>\n",
       "    </tr>\n",
       "  </tbody>\n",
       "</table>\n",
       "<p>1000 rows × 16 columns</p>\n",
       "</div>"
      ],
      "text/plain": [
       "      Invoice ID Branch city code  Customer type  Gender Product code  \\\n",
       "0    750-67-8428      A        CT1        Member  Female          PD1   \n",
       "1    226-31-3081      C        CT3        Normal  Female          PD2   \n",
       "2    631-41-3108      A        CT1        Normal    Male          PD3   \n",
       "3    123-19-1176      A        CT1        Member    Male          PD1   \n",
       "4    373-73-7910      A        CT1        Normal    Male          PD4   \n",
       "..           ...    ...        ...           ...     ...          ...   \n",
       "995  233-67-5758      C        CT3        Normal    Male          PD1   \n",
       "996  303-96-2227      B        CT9        Normal  Female          PD3   \n",
       "997  727-02-1313      A        CT1        Member    Male          PD5   \n",
       "998  347-56-2442      A        CT1        Normal    Male          PD3   \n",
       "999  849-09-3807      A        CT1        Member  Female          PD6   \n",
       "\n",
       "    Unit price  Quantity   Tax 5%      Total      Payment    cogs  \\\n",
       "0        74.69         7  26.1415   548.9715      Ewallet  522.83   \n",
       "1        15.28         5   3.8200    80.2200         Cash   76.40   \n",
       "2        46.33         7  16.2155   340.5255  Credit card  324.31   \n",
       "3        58.22         8  23.2880   489.0480      Ewallet  465.76   \n",
       "4        86.31         7  30.2085   634.3785      Ewallet  604.17   \n",
       "..         ...       ...      ...        ...          ...     ...   \n",
       "995      40.35         1   2.0175    42.3675      Ewallet   40.35   \n",
       "996      97.38        10  48.6900  1022.4900      Ewallet  973.80   \n",
       "997      31.84         1   1.5920    33.4320         Cash   31.84   \n",
       "998      65.82         1   3.2910    69.1110         Cash   65.82   \n",
       "999      88.34         7  30.9190   649.2990         Cash  618.38   \n",
       "\n",
       "     gross margin percentage  gross income  Rating            datetime  \n",
       "0                   4.761905       26.1415     9.1 2019-01-05 13:08:00  \n",
       "1                   4.761905        3.8200     9.6 2019-03-08 10:29:00  \n",
       "2                   4.761905       16.2155     7.4 2019-03-03 13:23:00  \n",
       "3                   4.761905       23.2880     8.4 2019-01-27 20:33:00  \n",
       "4                   4.761905       30.2085     5.3 2019-02-08 10:37:00  \n",
       "..                       ...           ...     ...                 ...  \n",
       "995                 4.761905        2.0175     6.2 2019-01-29 13:46:00  \n",
       "996                 4.761905       48.6900     4.4 2019-03-02 17:16:00  \n",
       "997                 4.761905        1.5920     7.7 2019-02-09 13:22:00  \n",
       "998                 4.761905        3.2910     4.1 2019-02-22 15:33:00  \n",
       "999                 4.761905       30.9190     6.6 2019-02-18 13:28:00  \n",
       "\n",
       "[1000 rows x 16 columns]"
      ]
     },
     "execution_count": 315,
     "metadata": {},
     "output_type": "execute_result"
    }
   ],
   "source": [
    "#this is final data set\n",
    "spmarket"
   ]
  },
  {
   "cell_type": "markdown",
   "id": "5e1252f1",
   "metadata": {},
   "source": [
    "Conclusion:\n",
    "\n",
    "We used uni-variate, bi-variate and correlation analysis to perform basic EDA on the supermarket sales data."
   ]
  },
  {
   "cell_type": "code",
   "execution_count": null,
   "id": "467b102d",
   "metadata": {},
   "outputs": [],
   "source": []
  }
 ],
 "metadata": {
  "kernelspec": {
   "display_name": "Python 3 (ipykernel)",
   "language": "python",
   "name": "python3"
  },
  "language_info": {
   "codemirror_mode": {
    "name": "ipython",
    "version": 3
   },
   "file_extension": ".py",
   "mimetype": "text/x-python",
   "name": "python",
   "nbconvert_exporter": "python",
   "pygments_lexer": "ipython3",
   "version": "3.9.7"
  }
 },
 "nbformat": 4,
 "nbformat_minor": 5
}
