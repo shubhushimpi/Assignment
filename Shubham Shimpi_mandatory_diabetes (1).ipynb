{
 "cells": [
  {
   "cell_type": "markdown",
   "id": "74f12fa1",
   "metadata": {},
   "source": [
    "## INTRODUCTION \n",
    "\n",
    "Today’s fast growing  world,  there  are  several  health issues arises among the  population;  one  the major illness is diabetes which slowly reduce the lifespan of the individual. The cause of diabetes is due to disorder in metabolism, which leads to higher blood glucose level, heavy urination, continuous thirst, skin dryness and lack insulin segregation. There are three type of diabetes occurs in the body: Type 1 and Type 2 diabetes and another is gestational diabetes which occurs during pregnancy for  woman. For this research, type 2 diabetes datasets are taken for analysis and mining. For the concept of data mining algorithms or tool development, the best dataset is diabetes data, which can discover knowledge that is more new and there are specific reasons to carry out the research, they are as follows:"
   ]
  },
  {
   "cell_type": "markdown",
   "id": "0f1ee4aa",
   "metadata": {},
   "source": [
    "# Import Libraries & Load Dataset"
   ]
  },
  {
   "cell_type": "code",
   "execution_count": 1,
   "id": "5dee81c1",
   "metadata": {},
   "outputs": [],
   "source": [
    "import pandas as pd\n",
    "import numpy as np\n",
    "import matplotlib.pyplot as plt\n",
    "import seaborn as sns\n",
    "import warnings\n",
    "warnings.filterwarnings('ignore')"
   ]
  },
  {
   "cell_type": "code",
   "execution_count": 3,
   "id": "93c58627",
   "metadata": {},
   "outputs": [
    {
     "data": {
      "text/html": [
       "<div>\n",
       "<style scoped>\n",
       "    .dataframe tbody tr th:only-of-type {\n",
       "        vertical-align: middle;\n",
       "    }\n",
       "\n",
       "    .dataframe tbody tr th {\n",
       "        vertical-align: top;\n",
       "    }\n",
       "\n",
       "    .dataframe thead th {\n",
       "        text-align: right;\n",
       "    }\n",
       "</style>\n",
       "<table border=\"1\" class=\"dataframe\">\n",
       "  <thead>\n",
       "    <tr style=\"text-align: right;\">\n",
       "      <th></th>\n",
       "      <th>Pregnancies</th>\n",
       "      <th>Glucose</th>\n",
       "      <th>BloodPressure</th>\n",
       "      <th>SkinThickness</th>\n",
       "      <th>Insulin</th>\n",
       "      <th>BMI</th>\n",
       "      <th>DiabetesPedigreeFunction</th>\n",
       "      <th>Age</th>\n",
       "      <th>Outcome</th>\n",
       "    </tr>\n",
       "  </thead>\n",
       "  <tbody>\n",
       "    <tr>\n",
       "      <th>0</th>\n",
       "      <td>6</td>\n",
       "      <td>148</td>\n",
       "      <td>72</td>\n",
       "      <td>35</td>\n",
       "      <td>0</td>\n",
       "      <td>33.6</td>\n",
       "      <td>0.627</td>\n",
       "      <td>50</td>\n",
       "      <td>1</td>\n",
       "    </tr>\n",
       "    <tr>\n",
       "      <th>1</th>\n",
       "      <td>1</td>\n",
       "      <td>85</td>\n",
       "      <td>66</td>\n",
       "      <td>29</td>\n",
       "      <td>0</td>\n",
       "      <td>26.6</td>\n",
       "      <td>0.351</td>\n",
       "      <td>31</td>\n",
       "      <td>0</td>\n",
       "    </tr>\n",
       "    <tr>\n",
       "      <th>2</th>\n",
       "      <td>8</td>\n",
       "      <td>183</td>\n",
       "      <td>64</td>\n",
       "      <td>0</td>\n",
       "      <td>0</td>\n",
       "      <td>23.3</td>\n",
       "      <td>0.672</td>\n",
       "      <td>32</td>\n",
       "      <td>1</td>\n",
       "    </tr>\n",
       "    <tr>\n",
       "      <th>3</th>\n",
       "      <td>1</td>\n",
       "      <td>89</td>\n",
       "      <td>66</td>\n",
       "      <td>23</td>\n",
       "      <td>94</td>\n",
       "      <td>28.1</td>\n",
       "      <td>0.167</td>\n",
       "      <td>21</td>\n",
       "      <td>0</td>\n",
       "    </tr>\n",
       "    <tr>\n",
       "      <th>4</th>\n",
       "      <td>0</td>\n",
       "      <td>137</td>\n",
       "      <td>40</td>\n",
       "      <td>35</td>\n",
       "      <td>168</td>\n",
       "      <td>43.1</td>\n",
       "      <td>2.288</td>\n",
       "      <td>33</td>\n",
       "      <td>1</td>\n",
       "    </tr>\n",
       "    <tr>\n",
       "      <th>...</th>\n",
       "      <td>...</td>\n",
       "      <td>...</td>\n",
       "      <td>...</td>\n",
       "      <td>...</td>\n",
       "      <td>...</td>\n",
       "      <td>...</td>\n",
       "      <td>...</td>\n",
       "      <td>...</td>\n",
       "      <td>...</td>\n",
       "    </tr>\n",
       "    <tr>\n",
       "      <th>763</th>\n",
       "      <td>10</td>\n",
       "      <td>101</td>\n",
       "      <td>76</td>\n",
       "      <td>48</td>\n",
       "      <td>180</td>\n",
       "      <td>32.9</td>\n",
       "      <td>0.171</td>\n",
       "      <td>63</td>\n",
       "      <td>0</td>\n",
       "    </tr>\n",
       "    <tr>\n",
       "      <th>764</th>\n",
       "      <td>2</td>\n",
       "      <td>122</td>\n",
       "      <td>70</td>\n",
       "      <td>27</td>\n",
       "      <td>0</td>\n",
       "      <td>36.8</td>\n",
       "      <td>0.340</td>\n",
       "      <td>27</td>\n",
       "      <td>0</td>\n",
       "    </tr>\n",
       "    <tr>\n",
       "      <th>765</th>\n",
       "      <td>5</td>\n",
       "      <td>121</td>\n",
       "      <td>72</td>\n",
       "      <td>23</td>\n",
       "      <td>112</td>\n",
       "      <td>26.2</td>\n",
       "      <td>0.245</td>\n",
       "      <td>30</td>\n",
       "      <td>0</td>\n",
       "    </tr>\n",
       "    <tr>\n",
       "      <th>766</th>\n",
       "      <td>1</td>\n",
       "      <td>126</td>\n",
       "      <td>60</td>\n",
       "      <td>0</td>\n",
       "      <td>0</td>\n",
       "      <td>30.1</td>\n",
       "      <td>0.349</td>\n",
       "      <td>47</td>\n",
       "      <td>1</td>\n",
       "    </tr>\n",
       "    <tr>\n",
       "      <th>767</th>\n",
       "      <td>1</td>\n",
       "      <td>93</td>\n",
       "      <td>70</td>\n",
       "      <td>31</td>\n",
       "      <td>0</td>\n",
       "      <td>30.4</td>\n",
       "      <td>0.315</td>\n",
       "      <td>23</td>\n",
       "      <td>0</td>\n",
       "    </tr>\n",
       "  </tbody>\n",
       "</table>\n",
       "<p>768 rows × 9 columns</p>\n",
       "</div>"
      ],
      "text/plain": [
       "     Pregnancies  Glucose  BloodPressure  SkinThickness  Insulin   BMI  \\\n",
       "0              6      148             72             35        0  33.6   \n",
       "1              1       85             66             29        0  26.6   \n",
       "2              8      183             64              0        0  23.3   \n",
       "3              1       89             66             23       94  28.1   \n",
       "4              0      137             40             35      168  43.1   \n",
       "..           ...      ...            ...            ...      ...   ...   \n",
       "763           10      101             76             48      180  32.9   \n",
       "764            2      122             70             27        0  36.8   \n",
       "765            5      121             72             23      112  26.2   \n",
       "766            1      126             60              0        0  30.1   \n",
       "767            1       93             70             31        0  30.4   \n",
       "\n",
       "     DiabetesPedigreeFunction  Age  Outcome  \n",
       "0                       0.627   50        1  \n",
       "1                       0.351   31        0  \n",
       "2                       0.672   32        1  \n",
       "3                       0.167   21        0  \n",
       "4                       2.288   33        1  \n",
       "..                        ...  ...      ...  \n",
       "763                     0.171   63        0  \n",
       "764                     0.340   27        0  \n",
       "765                     0.245   30        0  \n",
       "766                     0.349   47        1  \n",
       "767                     0.315   23        0  \n",
       "\n",
       "[768 rows x 9 columns]"
      ]
     },
     "execution_count": 3,
     "metadata": {},
     "output_type": "execute_result"
    }
   ],
   "source": [
    "df1=pd.read_csv(r'E:\\Odian School 9AM\\Assignment DS16\\mandatory_diabetes (1).csv')\n",
    "df1"
   ]
  },
  {
   "cell_type": "markdown",
   "id": "10b72cd5",
   "metadata": {},
   "source": [
    "# Data set information"
   ]
  },
  {
   "cell_type": "code",
   "execution_count": 118,
   "id": "0be7da6f",
   "metadata": {},
   "outputs": [
    {
     "name": "stdout",
     "output_type": "stream",
     "text": [
      "<class 'pandas.core.frame.DataFrame'>\n",
      "RangeIndex: 768 entries, 0 to 767\n",
      "Data columns (total 9 columns):\n",
      " #   Column                    Non-Null Count  Dtype  \n",
      "---  ------                    --------------  -----  \n",
      " 0   Pregnancies               768 non-null    int64  \n",
      " 1   Glucose                   768 non-null    int64  \n",
      " 2   BloodPressure             768 non-null    int64  \n",
      " 3   SkinThickness             768 non-null    int64  \n",
      " 4   Insulin                   768 non-null    int64  \n",
      " 5   BMI                       768 non-null    float64\n",
      " 6   DiabetesPedigreeFunction  768 non-null    float64\n",
      " 7   Age                       768 non-null    int64  \n",
      " 8   Outcome                   768 non-null    int64  \n",
      "dtypes: float64(2), int64(7)\n",
      "memory usage: 54.1 KB\n"
     ]
    }
   ],
   "source": [
    "df1.info()"
   ]
  },
  {
   "cell_type": "markdown",
   "id": "0f90b1be",
   "metadata": {},
   "source": [
    "## Q1.please do the bacic exploration of data and explain all data types (nominal,ordinal,discrete or continuous)"
   ]
  },
  {
   "cell_type": "markdown",
   "id": "95421cd3",
   "metadata": {},
   "source": [
    "Pregnancies is categories is a ordinal data type.\n",
    " \n",
    "Glucose is continuous data type.\n",
    "\n",
    "BloodPressure is continuous data type.\n",
    "\n",
    "SkinThickness is continuous data type.\n",
    "\n",
    "Insulin is continuous data type.\n",
    "\n",
    "BMI is continuous data type.\n",
    "\n",
    "DiabetesPedigreeFunction is continuous data type.\n",
    "\n",
    "Age is continuous data type.\n",
    "\n",
    "Outcome is categories is a nominal data type.\n"
   ]
  },
  {
   "cell_type": "markdown",
   "id": "b7692c74",
   "metadata": {},
   "source": [
    "## Q2.calculate appropriate measures of central tendency for glucose and outcome column variable only? Do not give all results."
   ]
  },
  {
   "cell_type": "code",
   "execution_count": 72,
   "id": "48a960ee",
   "metadata": {},
   "outputs": [
    {
     "data": {
      "text/plain": [
       "120.89453125"
      ]
     },
     "execution_count": 72,
     "metadata": {},
     "output_type": "execute_result"
    }
   ],
   "source": [
    "df1['Glucose'].mean()"
   ]
  },
  {
   "cell_type": "code",
   "execution_count": 73,
   "id": "de91533a",
   "metadata": {},
   "outputs": [
    {
     "data": {
      "text/plain": [
       "117.0"
      ]
     },
     "execution_count": 73,
     "metadata": {},
     "output_type": "execute_result"
    }
   ],
   "source": [
    "df1['Glucose'].median()"
   ]
  },
  {
   "cell_type": "code",
   "execution_count": 74,
   "id": "2b589439",
   "metadata": {},
   "outputs": [
    {
     "data": {
      "text/plain": [
       "0     99\n",
       "1    100\n",
       "Name: Glucose, dtype: int64"
      ]
     },
     "execution_count": 74,
     "metadata": {},
     "output_type": "execute_result"
    }
   ],
   "source": [
    "df1['Glucose'].mode()"
   ]
  },
  {
   "cell_type": "markdown",
   "id": "06754d60",
   "metadata": {},
   "source": [
    "Ans: this is measures of central tendency for glucose"
   ]
  },
  {
   "cell_type": "code",
   "execution_count": 8,
   "id": "ff805a0e",
   "metadata": {},
   "outputs": [
    {
     "data": {
      "text/plain": [
       "0.3489583333333333"
      ]
     },
     "execution_count": 8,
     "metadata": {},
     "output_type": "execute_result"
    }
   ],
   "source": [
    "df1['Outcome'].mean()"
   ]
  },
  {
   "cell_type": "code",
   "execution_count": 10,
   "id": "f5bc930f",
   "metadata": {},
   "outputs": [
    {
     "data": {
      "text/plain": [
       "0.0"
      ]
     },
     "execution_count": 10,
     "metadata": {},
     "output_type": "execute_result"
    }
   ],
   "source": [
    "df1['Outcome'].median()"
   ]
  },
  {
   "cell_type": "code",
   "execution_count": 11,
   "id": "2809d8a3",
   "metadata": {},
   "outputs": [
    {
     "data": {
      "text/plain": [
       "0    0\n",
       "Name: Outcome, dtype: int64"
      ]
     },
     "execution_count": 11,
     "metadata": {},
     "output_type": "execute_result"
    }
   ],
   "source": [
    "df1['Outcome'].mode()"
   ]
  },
  {
   "cell_type": "markdown",
   "id": "1321a61c",
   "metadata": {},
   "source": [
    "Ans: this is measures of central tendency for outcome"
   ]
  },
  {
   "cell_type": "markdown",
   "id": "25ad3c1e",
   "metadata": {},
   "source": [
    "## Q3.please provid 5 points data summaries for required columns"
   ]
  },
  {
   "cell_type": "code",
   "execution_count": 181,
   "id": "dd72d4e9",
   "metadata": {},
   "outputs": [
    {
     "data": {
      "text/plain": [
       "Pregnancies                  0.000\n",
       "Glucose                      0.000\n",
       "BloodPressure                0.000\n",
       "SkinThickness                0.000\n",
       "Insulin                      0.000\n",
       "BMI                          0.000\n",
       "DiabetesPedigreeFunction     0.078\n",
       "Age                         21.000\n",
       "Outcome                      0.000\n",
       "dtype: float64"
      ]
     },
     "execution_count": 181,
     "metadata": {},
     "output_type": "execute_result"
    }
   ],
   "source": [
    "df1.min()"
   ]
  },
  {
   "cell_type": "code",
   "execution_count": 183,
   "id": "3a96cb7b",
   "metadata": {},
   "outputs": [
    {
     "data": {
      "text/plain": [
       "Pregnancies                  1.00000\n",
       "Glucose                     99.00000\n",
       "BloodPressure               62.00000\n",
       "SkinThickness                0.00000\n",
       "Insulin                      0.00000\n",
       "BMI                         27.30000\n",
       "DiabetesPedigreeFunction     0.24375\n",
       "Age                         24.00000\n",
       "Outcome                      0.00000\n",
       "Name: 0.25, dtype: float64"
      ]
     },
     "execution_count": 183,
     "metadata": {},
     "output_type": "execute_result"
    }
   ],
   "source": [
    "df1.quantile(0.25)"
   ]
  },
  {
   "cell_type": "code",
   "execution_count": 189,
   "id": "166fc6c3",
   "metadata": {},
   "outputs": [
    {
     "data": {
      "text/plain": [
       "Pregnancies                   3.0000\n",
       "Glucose                     117.0000\n",
       "BloodPressure                72.0000\n",
       "SkinThickness                23.0000\n",
       "Insulin                      30.5000\n",
       "BMI                          32.0000\n",
       "DiabetesPedigreeFunction      0.3725\n",
       "Age                          29.0000\n",
       "Outcome                       0.0000\n",
       "dtype: float64"
      ]
     },
     "execution_count": 189,
     "metadata": {},
     "output_type": "execute_result"
    }
   ],
   "source": [
    "df1.median()"
   ]
  },
  {
   "cell_type": "code",
   "execution_count": 186,
   "id": "5bf70b42",
   "metadata": {},
   "outputs": [
    {
     "data": {
      "text/plain": [
       "Pregnancies                   6.00000\n",
       "Glucose                     140.25000\n",
       "BloodPressure                80.00000\n",
       "SkinThickness                32.00000\n",
       "Insulin                     127.25000\n",
       "BMI                          36.60000\n",
       "DiabetesPedigreeFunction      0.62625\n",
       "Age                          41.00000\n",
       "Outcome                       1.00000\n",
       "Name: 0.75, dtype: float64"
      ]
     },
     "execution_count": 186,
     "metadata": {},
     "output_type": "execute_result"
    }
   ],
   "source": [
    "df1.quantile(0.75)"
   ]
  },
  {
   "cell_type": "code",
   "execution_count": 187,
   "id": "e0ef645f",
   "metadata": {},
   "outputs": [
    {
     "data": {
      "text/plain": [
       "Pregnancies                  17.00\n",
       "Glucose                     199.00\n",
       "BloodPressure               122.00\n",
       "SkinThickness                99.00\n",
       "Insulin                     846.00\n",
       "BMI                          67.10\n",
       "DiabetesPedigreeFunction      2.42\n",
       "Age                          81.00\n",
       "Outcome                       1.00\n",
       "dtype: float64"
      ]
     },
     "execution_count": 187,
     "metadata": {},
     "output_type": "execute_result"
    }
   ],
   "source": [
    "df1.max()"
   ]
  },
  {
   "cell_type": "code",
   "execution_count": 188,
   "id": "d450a9d7",
   "metadata": {},
   "outputs": [
    {
     "data": {
      "text/html": [
       "<div>\n",
       "<style scoped>\n",
       "    .dataframe tbody tr th:only-of-type {\n",
       "        vertical-align: middle;\n",
       "    }\n",
       "\n",
       "    .dataframe tbody tr th {\n",
       "        vertical-align: top;\n",
       "    }\n",
       "\n",
       "    .dataframe thead th {\n",
       "        text-align: right;\n",
       "    }\n",
       "</style>\n",
       "<table border=\"1\" class=\"dataframe\">\n",
       "  <thead>\n",
       "    <tr style=\"text-align: right;\">\n",
       "      <th></th>\n",
       "      <th>Pregnancies</th>\n",
       "      <th>Glucose</th>\n",
       "      <th>BloodPressure</th>\n",
       "      <th>SkinThickness</th>\n",
       "      <th>Insulin</th>\n",
       "      <th>BMI</th>\n",
       "      <th>DiabetesPedigreeFunction</th>\n",
       "      <th>Age</th>\n",
       "      <th>Outcome</th>\n",
       "    </tr>\n",
       "  </thead>\n",
       "  <tbody>\n",
       "    <tr>\n",
       "      <th>count</th>\n",
       "      <td>768.000000</td>\n",
       "      <td>768.000000</td>\n",
       "      <td>768.000000</td>\n",
       "      <td>768.000000</td>\n",
       "      <td>768.000000</td>\n",
       "      <td>768.000000</td>\n",
       "      <td>768.000000</td>\n",
       "      <td>768.000000</td>\n",
       "      <td>768.000000</td>\n",
       "    </tr>\n",
       "    <tr>\n",
       "      <th>mean</th>\n",
       "      <td>3.845052</td>\n",
       "      <td>120.894531</td>\n",
       "      <td>69.105469</td>\n",
       "      <td>20.536458</td>\n",
       "      <td>79.799479</td>\n",
       "      <td>31.992578</td>\n",
       "      <td>0.471876</td>\n",
       "      <td>33.240885</td>\n",
       "      <td>0.348958</td>\n",
       "    </tr>\n",
       "    <tr>\n",
       "      <th>std</th>\n",
       "      <td>3.369578</td>\n",
       "      <td>31.972618</td>\n",
       "      <td>19.355807</td>\n",
       "      <td>15.952218</td>\n",
       "      <td>115.244002</td>\n",
       "      <td>7.884160</td>\n",
       "      <td>0.331329</td>\n",
       "      <td>11.760232</td>\n",
       "      <td>0.476951</td>\n",
       "    </tr>\n",
       "    <tr>\n",
       "      <th>min</th>\n",
       "      <td>0.000000</td>\n",
       "      <td>0.000000</td>\n",
       "      <td>0.000000</td>\n",
       "      <td>0.000000</td>\n",
       "      <td>0.000000</td>\n",
       "      <td>0.000000</td>\n",
       "      <td>0.078000</td>\n",
       "      <td>21.000000</td>\n",
       "      <td>0.000000</td>\n",
       "    </tr>\n",
       "    <tr>\n",
       "      <th>25%</th>\n",
       "      <td>1.000000</td>\n",
       "      <td>99.000000</td>\n",
       "      <td>62.000000</td>\n",
       "      <td>0.000000</td>\n",
       "      <td>0.000000</td>\n",
       "      <td>27.300000</td>\n",
       "      <td>0.243750</td>\n",
       "      <td>24.000000</td>\n",
       "      <td>0.000000</td>\n",
       "    </tr>\n",
       "    <tr>\n",
       "      <th>50%</th>\n",
       "      <td>3.000000</td>\n",
       "      <td>117.000000</td>\n",
       "      <td>72.000000</td>\n",
       "      <td>23.000000</td>\n",
       "      <td>30.500000</td>\n",
       "      <td>32.000000</td>\n",
       "      <td>0.372500</td>\n",
       "      <td>29.000000</td>\n",
       "      <td>0.000000</td>\n",
       "    </tr>\n",
       "    <tr>\n",
       "      <th>75%</th>\n",
       "      <td>6.000000</td>\n",
       "      <td>140.250000</td>\n",
       "      <td>80.000000</td>\n",
       "      <td>32.000000</td>\n",
       "      <td>127.250000</td>\n",
       "      <td>36.600000</td>\n",
       "      <td>0.626250</td>\n",
       "      <td>41.000000</td>\n",
       "      <td>1.000000</td>\n",
       "    </tr>\n",
       "    <tr>\n",
       "      <th>max</th>\n",
       "      <td>17.000000</td>\n",
       "      <td>199.000000</td>\n",
       "      <td>122.000000</td>\n",
       "      <td>99.000000</td>\n",
       "      <td>846.000000</td>\n",
       "      <td>67.100000</td>\n",
       "      <td>2.420000</td>\n",
       "      <td>81.000000</td>\n",
       "      <td>1.000000</td>\n",
       "    </tr>\n",
       "  </tbody>\n",
       "</table>\n",
       "</div>"
      ],
      "text/plain": [
       "       Pregnancies     Glucose  BloodPressure  SkinThickness     Insulin  \\\n",
       "count   768.000000  768.000000     768.000000     768.000000  768.000000   \n",
       "mean      3.845052  120.894531      69.105469      20.536458   79.799479   \n",
       "std       3.369578   31.972618      19.355807      15.952218  115.244002   \n",
       "min       0.000000    0.000000       0.000000       0.000000    0.000000   \n",
       "25%       1.000000   99.000000      62.000000       0.000000    0.000000   \n",
       "50%       3.000000  117.000000      72.000000      23.000000   30.500000   \n",
       "75%       6.000000  140.250000      80.000000      32.000000  127.250000   \n",
       "max      17.000000  199.000000     122.000000      99.000000  846.000000   \n",
       "\n",
       "              BMI  DiabetesPedigreeFunction         Age     Outcome  \n",
       "count  768.000000                768.000000  768.000000  768.000000  \n",
       "mean    31.992578                  0.471876   33.240885    0.348958  \n",
       "std      7.884160                  0.331329   11.760232    0.476951  \n",
       "min      0.000000                  0.078000   21.000000    0.000000  \n",
       "25%     27.300000                  0.243750   24.000000    0.000000  \n",
       "50%     32.000000                  0.372500   29.000000    0.000000  \n",
       "75%     36.600000                  0.626250   41.000000    1.000000  \n",
       "max     67.100000                  2.420000   81.000000    1.000000  "
      ]
     },
     "execution_count": 188,
     "metadata": {},
     "output_type": "execute_result"
    }
   ],
   "source": [
    "#another way is\n",
    "df1.describe()"
   ]
  },
  {
   "cell_type": "markdown",
   "id": "19206680",
   "metadata": {},
   "source": [
    "There are 5 points data summaries"
   ]
  },
  {
   "cell_type": "markdown",
   "id": "68aee666",
   "metadata": {},
   "source": [
    "## Q4.please create an appropriate plot to see the distribution of the outcome variable?"
   ]
  },
  {
   "cell_type": "code",
   "execution_count": 140,
   "id": "05c08b63",
   "metadata": {},
   "outputs": [
    {
     "data": {
      "text/plain": [
       "<matplotlib.legend.Legend at 0x1a6ad0cf1c0>"
      ]
     },
     "execution_count": 140,
     "metadata": {},
     "output_type": "execute_result"
    },
    {
     "data": {
      "image/png": "[encoded data removed]",
      "text/plain": [
       "<Figure size 432x288 with 1 Axes>"
      ]
     },
     "metadata": {},
     "output_type": "display_data"
    }
   ],
   "source": [
    "plt.figure()\n",
    "ax = sns.histplot(df1['Outcome'][df1.Outcome == 1], color =\"red\")\n",
    "sns.histplot(df1['Outcome'][df1.Outcome == 0], color =\"blue\")\n",
    "plt.legend(['Diabetes', 'No Diabetes'])"
   ]
  },
  {
   "cell_type": "markdown",
   "id": "5e2cd6fa",
   "metadata": {},
   "source": [
    "Ans: The distribution of outcome so blue color show is Diabetes and yellow color is non-Diabetes "
   ]
  },
  {
   "cell_type": "markdown",
   "id": "2bc0e53a",
   "metadata": {},
   "source": [
    "## Q5.Is there a difference in glucose level between diabetic and non-diabetic? Similarly for insulin and dibetic vc nondiabetic."
   ]
  },
  {
   "cell_type": "code",
   "execution_count": 157,
   "id": "e05c63ad",
   "metadata": {},
   "outputs": [
    {
     "data": {
      "text/plain": [
       "<matplotlib.legend.Legend at 0x1a6b34c83a0>"
      ]
     },
     "execution_count": 157,
     "metadata": {},
     "output_type": "execute_result"
    },
    {
     "data": {
      "image/png": "[encoded data removed]",
      "text/plain": [
       "<Figure size 432x288 with 1 Axes>"
      ]
     },
     "metadata": {},
     "output_type": "display_data"
    },
    {
     "data": {
      "image/png": "[encoded data removed]",
      "text/plain": [
       "<Figure size 432x288 with 1 Axes>"
      ]
     },
     "metadata": {},
     "output_type": "display_data"
    }
   ],
   "source": [
    "#Glucose\n",
    "plt.figure()\n",
    "ax = sns.histplot(df1['Glucose'][df1.Outcome == 1], color =\"red\")\n",
    "sns.histplot(df1['Glucose'][df1.Outcome == 0], color =\"blue\")\n",
    "plt.legend(['Diabetic', 'Non-diabetic'])\n",
    "\n",
    "#Insulin\n",
    "plt.figure()\n",
    "ax = sns.histplot(df1['Insulin'][df1.Outcome == 1], color =\"red\")\n",
    "sns.histplot(df1['Insulin'][df1.Outcome == 0], color =\"blue\")\n",
    "plt.legend(['Diabetic', 'Non-diabetic'])"
   ]
  },
  {
   "cell_type": "markdown",
   "id": "442d8f33",
   "metadata": {},
   "source": [
    "insulin are skewed for right side and glucose for normal distribution and glucose is very high diabetic level compair to insulin."
   ]
  },
  {
   "cell_type": "markdown",
   "id": "b3f0d577",
   "metadata": {},
   "source": [
    "## Q6.Please examine the relationship between insulin and glucose level using appropriate plots."
   ]
  },
  {
   "cell_type": "code",
   "execution_count": 142,
   "id": "973aebfd",
   "metadata": {},
   "outputs": [
    {
     "data": {
      "text/plain": [
       "<AxesSubplot:xlabel='Glucose', ylabel='Insulin'>"
      ]
     },
     "execution_count": 142,
     "metadata": {},
     "output_type": "execute_result"
    },
    {
     "data": {
      "image/png": "[encoded data removed]",
      "text/plain": [
       "<Figure size 432x288 with 1 Axes>"
      ]
     },
     "metadata": {},
     "output_type": "display_data"
    }
   ],
   "source": [
    "sns.set_style(\"whitegrid\")\n",
    "sns.scatterplot(y=df1['Insulin'],x=df1['Glucose'],data=df1)"
   ]
  },
  {
   "cell_type": "markdown",
   "id": "29a6702d",
   "metadata": {},
   "source": [
    "This plot show the insulin and glucose many point are close so there are relationship."
   ]
  },
  {
   "cell_type": "markdown",
   "id": "28bcfc02",
   "metadata": {},
   "source": [
    "## Q7.Please examine distribution of numerical data and explain which variables normally distributed and which variables seem to be skewed.Please also the direction of skewness."
   ]
  },
  {
   "cell_type": "code",
   "execution_count": 168,
   "id": "d9649a66",
   "metadata": {},
   "outputs": [
    {
     "data": {
      "text/plain": [
       "<AxesSubplot:xlabel='Pregnancies', ylabel='Density'>"
      ]
     },
     "execution_count": 168,
     "metadata": {},
     "output_type": "execute_result"
    },
    {
     "data": {
      "image/png": "[encoded data removed]",
      "text/plain": [
       "<Figure size 432x288 with 1 Axes>"
      ]
     },
     "metadata": {},
     "output_type": "display_data"
    }
   ],
   "source": [
    "plt.figure()\n",
    "sns.distplot(df1['Pregnancies'], color =\"blue\")"
   ]
  },
  {
   "cell_type": "markdown",
   "id": "d1838604",
   "metadata": {},
   "source": [
    "This plot show Pregnancies are right side skewed"
   ]
  },
  {
   "cell_type": "code",
   "execution_count": 170,
   "id": "aeb1e713",
   "metadata": {},
   "outputs": [
    {
     "data": {
      "text/plain": [
       "<AxesSubplot:xlabel='Glucose', ylabel='Density'>"
      ]
     },
     "execution_count": 170,
     "metadata": {},
     "output_type": "execute_result"
    },
    {
     "data": {
      "image/png": "[encoded data removed]",
      "text/plain": [
       "<Figure size 432x288 with 1 Axes>"
      ]
     },
     "metadata": {},
     "output_type": "display_data"
    }
   ],
   "source": [
    "plt.figure()\n",
    "sns.distplot(df1['Glucose'], color =\"red\")"
   ]
  },
  {
   "cell_type": "markdown",
   "id": "5c8a0126",
   "metadata": {},
   "source": [
    "This plot show glucose are not normally distributed.this is left side skewed."
   ]
  },
  {
   "cell_type": "code",
   "execution_count": 171,
   "id": "264bf6cb",
   "metadata": {},
   "outputs": [
    {
     "data": {
      "text/plain": [
       "<AxesSubplot:xlabel='BloodPressure', ylabel='Density'>"
      ]
     },
     "execution_count": 171,
     "metadata": {},
     "output_type": "execute_result"
    },
    {
     "data": {
      "image/png": "[encoded data removed]",
      "text/plain": [
       "<Figure size 432x288 with 1 Axes>"
      ]
     },
     "metadata": {},
     "output_type": "display_data"
    }
   ],
   "source": [
    "plt.figure()\n",
    "sns.distplot(df1['BloodPressure'], color =\"blue\")"
   ]
  },
  {
   "cell_type": "markdown",
   "id": "b8e96692",
   "metadata": {},
   "source": [
    "This plot show BloodPressure is not normally distributed.bt this is left side skewed"
   ]
  },
  {
   "cell_type": "code",
   "execution_count": 175,
   "id": "8b997166",
   "metadata": {},
   "outputs": [
    {
     "data": {
      "text/plain": [
       "<AxesSubplot:xlabel='SkinThickness', ylabel='Density'>"
      ]
     },
     "execution_count": 175,
     "metadata": {},
     "output_type": "execute_result"
    },
    {
     "data": {
      "image/png": "[encoded data removed]",
      "text/plain": [
       "<Figure size 432x288 with 1 Axes>"
      ]
     },
     "metadata": {},
     "output_type": "display_data"
    }
   ],
   "source": [
    "plt.figure()\n",
    "sns.distplot(df1['SkinThickness'], color =\"red\")"
   ]
  },
  {
   "cell_type": "markdown",
   "id": "190a2296",
   "metadata": {},
   "source": [
    "This plot show SkinThickness normally skewed right side and this is  Bimodal distribution"
   ]
  },
  {
   "cell_type": "code",
   "execution_count": 173,
   "id": "76a3def4",
   "metadata": {},
   "outputs": [
    {
     "data": {
      "text/plain": [
       "<AxesSubplot:xlabel='Insulin', ylabel='Density'>"
      ]
     },
     "execution_count": 173,
     "metadata": {},
     "output_type": "execute_result"
    },
    {
     "data": {
      "image/png": "[encoded data removed]",
      "text/plain": [
       "<Figure size 432x288 with 1 Axes>"
      ]
     },
     "metadata": {},
     "output_type": "display_data"
    }
   ],
   "source": [
    "plt.figure()\n",
    "sns.distplot(df1['Insulin'], color =\"blue\")"
   ]
  },
  {
   "cell_type": "markdown",
   "id": "93174d4d",
   "metadata": {},
   "source": [
    "This plot show the Insulin there are right side skewed."
   ]
  },
  {
   "cell_type": "code",
   "execution_count": 176,
   "id": "a8ac236d",
   "metadata": {},
   "outputs": [
    {
     "data": {
      "text/plain": [
       "<AxesSubplot:xlabel='BMI', ylabel='Density'>"
      ]
     },
     "execution_count": 176,
     "metadata": {},
     "output_type": "execute_result"
    },
    {
     "data": {
      "image/png": "[encoded data removed]",
      "text/plain": [
       "<Figure size 432x288 with 1 Axes>"
      ]
     },
     "metadata": {},
     "output_type": "display_data"
    }
   ],
   "source": [
    "plt.figure()\n",
    "sns.distplot(df1['BMI'], color =\"red\")"
   ]
  },
  {
   "cell_type": "markdown",
   "id": "2a123869",
   "metadata": {},
   "source": [
    "This plot show BMI also normally distributed."
   ]
  },
  {
   "cell_type": "markdown",
   "id": "b75fd724",
   "metadata": {},
   "source": [
    "So Three columns are normally distributed glucose,BloodPressure and BMI and Insulin,SkinThickness and Pregnancies are skewed."
   ]
  },
  {
   "cell_type": "markdown",
   "id": "a7739f41",
   "metadata": {},
   "source": [
    "## Q8.Please calculate the skewness value and  divide variables into symmetrical, moderately skewed and highly skewed."
   ]
  },
  {
   "cell_type": "code",
   "execution_count": 160,
   "id": "95bf35c0",
   "metadata": {},
   "outputs": [
    {
     "data": {
      "text/plain": [
       "Pregnancies                 0.901674\n",
       "Glucose                     0.173754\n",
       "BloodPressure              -1.843608\n",
       "SkinThickness               0.109372\n",
       "Insulin                     2.272251\n",
       "BMI                        -0.428982\n",
       "DiabetesPedigreeFunction    1.919911\n",
       "Age                         1.129597\n",
       "Outcome                     0.635017\n",
       "dtype: float64"
      ]
     },
     "execution_count": 160,
     "metadata": {},
     "output_type": "execute_result"
    }
   ],
   "source": [
    "df1.skew()"
   ]
  },
  {
   "cell_type": "markdown",
   "id": "b781b823",
   "metadata": {},
   "source": [
    "### Explaine all variables\n",
    "\n",
    "Preganancies is moderately skewed\n",
    "\n",
    "Glucose is symmetrical skewed\n",
    "\n",
    "BloodPressure is highly skewed\n",
    "\n",
    "SkinThickness is symmetrical skewed\n",
    "\n",
    "Insulin is highly skewed\n",
    "\n",
    "BMI is symmetrical skewed\n",
    "\n",
    "DiabetesPedigreeFunction is highly skewed\n",
    "\n",
    "Age is highly skewed\n",
    "\n",
    "Outcome is moderately skewed"
   ]
  },
  {
   "cell_type": "markdown",
   "id": "025a6419",
   "metadata": {},
   "source": [
    "## Q9.Please create an appropriate plot to examine the outliers of these variables.Please name the variables which have outliers."
   ]
  },
  {
   "cell_type": "code",
   "execution_count": 117,
   "id": "edd56215",
   "metadata": {},
   "outputs": [
    {
     "data": {
      "image/png": "[encoded data removed]",
      "text/plain": [
       "<Figure size 1296x1080 with 9 Axes>"
      ]
     },
     "metadata": {},
     "output_type": "display_data"
    }
   ],
   "source": [
    "fig = plt.figure(figsize=(18,15))\n",
    "gs = fig.add_gridspec(3,3)\n",
    "gs.update(wspace=0.5, hspace=0.25)\n",
    "ax0 = fig.add_subplot(gs[0,0])\n",
    "ax1 = fig.add_subplot(gs[0,1])\n",
    "ax2 = fig.add_subplot(gs[0,2])\n",
    "ax3 = fig.add_subplot(gs[1,0])\n",
    "ax4 = fig.add_subplot(gs[1,1])\n",
    "ax5 = fig.add_subplot(gs[1,2])\n",
    "ax6 = fig.add_subplot(gs[2,0])\n",
    "ax7 = fig.add_subplot(gs[2,1])\n",
    "ax8 = fig.add_subplot(gs[2,2])\n",
    "\n",
    "background_color = \"#c9c9ee\"\n",
    "# c9c9ee\n",
    "color_palette = [\"#f56476\",\"#ff8811\",\"#ff0040\",\"#ff7f6c\",\"#f0f66e\",\"#990000\"]\n",
    "fig.patch.set_facecolor(background_color) \n",
    "ax0.set_facecolor(background_color) \n",
    "ax1.set_facecolor(background_color)\n",
    "ax2.set_facecolor(background_color)\n",
    "ax3.set_facecolor(background_color)\n",
    "ax4.set_facecolor(background_color)\n",
    "ax5.set_facecolor(background_color)\n",
    "ax6.set_facecolor(background_color)\n",
    "ax7.set_facecolor(background_color)\n",
    "ax8.set_facecolor(background_color)\n",
    "\n",
    "# Title of the plot\n",
    "ax0.spines[\"bottom\"].set_visible(False)\n",
    "ax0.spines[\"left\"].set_visible(False)\n",
    "ax0.spines[\"top\"].set_visible(False)\n",
    "ax0.spines[\"right\"].set_visible(False)\n",
    "ax0.tick_params(left=False, bottom=False)\n",
    "ax0.set_xticklabels([])\n",
    "ax0.set_yticklabels([])\n",
    "ax0.text(0.5,0.5,\n",
    "         'Boxenplot plot for various\\n features' ,\n",
    "         horizontalalignment='center',\n",
    "         verticalalignment='center',\n",
    "         fontsize=18, fontweight='bold',\n",
    "         fontfamily='serif',\n",
    "         color=\"#000000\")\n",
    "\n",
    "# Pregnancies \n",
    "ax1.text(-0.18, 19, 'Pregnancies', fontsize=14, fontweight='bold', fontfamily='serif', color=\"#000000\")\n",
    "ax1.grid(color='#000000', linestyle=':', axis='y', zorder=0,  dashes=(1,5))\n",
    "sns.boxplot(ax=ax1,y=df1['Pregnancies'],palette=[\"#f56476\"],width=0.6)\n",
    "ax1.set_xlabel(\"\")\n",
    "ax1.set_ylabel(\"\")\n",
    "\n",
    "# Glucose \n",
    "ax2.text(-0.1, 217, 'Glucose', fontsize=14, fontweight='bold', fontfamily='serif', color=\"#000000\")\n",
    "ax2.grid(color='#000000', linestyle=':', axis='y', zorder=0,  dashes=(1,5))\n",
    "sns.boxplot(ax=ax2,y=df1['Glucose'],palette=[\"#ff8811\"],width=0.6)\n",
    "ax2.set_xlabel(\"\")\n",
    "ax2.set_ylabel(\"\")\n",
    "\n",
    "# BloodPressure \n",
    "ax3.text(-0.20, 132, 'BloodPressure', fontsize=14, fontweight='bold', fontfamily='serif', color=\"#000000\")\n",
    "ax3.grid(color='#000000', linestyle=':', axis='y', zorder=0,  dashes=(1,5))\n",
    "sns.boxplot(ax=ax3,y=df1['BloodPressure'],palette=[\"#ff0040\"],width=0.6)\n",
    "ax3.set_xlabel(\"\")\n",
    "ax3.set_ylabel(\"\")\n",
    "\n",
    "# SkinThickness \n",
    "ax4.text(-.2, 110, 'SkinThickness', fontsize=14, fontweight='bold', fontfamily='serif', color=\"#000000\")\n",
    "ax4.grid(color='#000000', linestyle=':', axis='y', zorder=0,  dashes=(1,5))\n",
    "sns.boxplot(ax=ax4,y=df1['SkinThickness'],palette=[\"#ff7f6c\"],width=0.6)\n",
    "ax4.set_xlabel(\"\")\n",
    "ax4.set_ylabel(\"\")\n",
    "\n",
    "# Insulin \n",
    "ax5.text(-0.10, 900, 'Insulin', fontsize=14, fontweight='bold', fontfamily='serif', color=\"#000000\")\n",
    "ax5.grid(color='#000000', linestyle=':', axis='y', zorder=0,  dashes=(1,5))\n",
    "sns.boxplot(ax=ax5,y=df1['Insulin'],palette=[\"#f0f66e\"],width=0.6)\n",
    "ax5.set_xlabel(\"\")\n",
    "ax5.set_ylabel(\"\")\n",
    "\n",
    "# BMI \n",
    "ax6.text(-0.08, 77, 'BMI', fontsize=14, fontweight='bold', fontfamily='serif', color=\"#000000\")\n",
    "ax6.grid(color='#000000', linestyle=':', axis='y', zorder=0,  dashes=(1,5))\n",
    "sns.boxplot(ax=ax6,y=df1['BMI'],palette=[\"#990000\"],width=0.6)\n",
    "ax6.set_xlabel(\"\")\n",
    "ax6.set_ylabel(\"\")\n",
    "\n",
    "# DPF \n",
    "ax7.text(-0.065, 2.8, 'DPF', fontsize=14, fontweight='bold', fontfamily='serif', color=\"#000000\")\n",
    "ax7.grid(color='#000000', linestyle=':', axis='y', zorder=0,  dashes=(1,5))\n",
    "sns.boxplot(ax=ax7,y=df1['DiabetesPedigreeFunction'],palette=[\"#3339FF\"],width=0.6)\n",
    "ax7.set_xlabel(\"\")\n",
    "ax7.set_ylabel(\"\")\n",
    "\n",
    "# Age \n",
    "ax8.text(-0.08, 86, 'Age', fontsize=14, fontweight='bold', fontfamily='serif', color=\"#000000\")\n",
    "ax8.grid(color='#000000', linestyle=':', axis='y', zorder=0,  dashes=(1,5))\n",
    "sns.boxplot(ax=ax8,y=df1['Age'],palette=[\"#34495E\"],width=0.6)\n",
    "ax8.set_xlabel(\"\")\n",
    "ax8.set_ylabel(\"\")\n",
    "\n",
    "\n",
    "\n",
    "for s in [\"top\",\"right\",\"left\"]:\n",
    "    ax1.spines[s].set_visible(False)\n",
    "    ax2.spines[s].set_visible(False)\n",
    "    ax3.spines[s].set_visible(False)\n",
    "    ax4.spines[s].set_visible(False)\n",
    "    ax5.spines[s].set_visible(False)\n",
    "    ax6.spines[s].set_visible(False)\n",
    "    ax7.spines[s].set_visible(False)\n",
    "    ax8.spines[s].set_visible(False)"
   ]
  },
  {
   "cell_type": "markdown",
   "id": "72611c1e",
   "metadata": {},
   "source": [
    "So this plot show the all variables are outliears bt Glucose and SkinThickness are very low outliears."
   ]
  },
  {
   "cell_type": "markdown",
   "id": "25e68cb7",
   "metadata": {},
   "source": [
    "## Q10.What should be the measures of centeral tendency and dispersion for skewed data?"
   ]
  },
  {
   "cell_type": "markdown",
   "id": "5656cd7c",
   "metadata": {},
   "source": [
    "Ans:In a symmetrical distribution, the mean, median, and mode are all equal. In these cases, the mean is often the preferred measure of central tendency. \n",
    "\n",
    "For distributions that have outliers or are skewed, the median is often the preferred measure of central tendency because the median is more resistant to outliers than the mean. Below you will see how the direction of skewness impacts the order of the mean, median, and mode. Note that the mean is pulled in the direction of the skewness (i.e., the direction of the tail)."
   ]
  },
  {
   "cell_type": "markdown",
   "id": "96d11370",
   "metadata": {},
   "source": [
    "## Q11.If there are missing values,please try to fill those missing values and give appropriate reasons."
   ]
  },
  {
   "cell_type": "code",
   "execution_count": 62,
   "id": "70196e05",
   "metadata": {},
   "outputs": [
    {
     "data": {
      "text/plain": [
       "Pregnancies                 0\n",
       "Glucose                     0\n",
       "BloodPressure               0\n",
       "SkinThickness               0\n",
       "Insulin                     0\n",
       "BMI                         0\n",
       "DiabetesPedigreeFunction    0\n",
       "Age                         0\n",
       "Outcome                     0\n",
       "dtype: int64"
      ]
     },
     "execution_count": 62,
     "metadata": {},
     "output_type": "execute_result"
    }
   ],
   "source": [
    "df1.isnull().sum()"
   ]
  },
  {
   "cell_type": "markdown",
   "id": "78c2ac7d",
   "metadata": {},
   "source": [
    "There are no missing values."
   ]
  },
  {
   "cell_type": "markdown",
   "id": "e73c5c90",
   "metadata": {},
   "source": [
    "## Q12.If skewness is present, try to perform transformation and explain the results."
   ]
  },
  {
   "cell_type": "code",
   "execution_count": 227,
   "id": "f09faee3",
   "metadata": {},
   "outputs": [
    {
     "name": "stdout",
     "output_type": "stream",
     "text": [
      "-0.15893792070470467\n"
     ]
    },
    {
     "data": {
      "text/plain": [
       "<AxesSubplot:xlabel='Pregnancies', ylabel='Density'>"
      ]
     },
     "execution_count": 227,
     "metadata": {},
     "output_type": "execute_result"
    },
    {
     "data": {
      "image/png": "[encoded data removed]",
      "text/plain": [
       "<Figure size 432x288 with 1 Axes>"
      ]
     },
     "metadata": {},
     "output_type": "display_data"
    }
   ],
   "source": [
    "target = np.sqrt(df1['Pregnancies'])\n",
    "print (target.skew())\n",
    "plt.figure()\n",
    "sns.distplot(target, color =\"red\")"
   ]
  },
  {
   "cell_type": "markdown",
   "id": "396bfcf7",
   "metadata": {},
   "source": [
    "so show the plot is skeweness is very low for using transformation of square root."
   ]
  },
  {
   "cell_type": "code",
   "execution_count": 228,
   "id": "47f99622",
   "metadata": {},
   "outputs": [
    {
     "name": "stdout",
     "output_type": "stream",
     "text": [
      "0.6299554383696059\n"
     ]
    },
    {
     "data": {
      "text/plain": [
       "<AxesSubplot:xlabel='Insulin', ylabel='Density'>"
      ]
     },
     "execution_count": 228,
     "metadata": {},
     "output_type": "execute_result"
    },
    {
     "data": {
      "image/png": "[encoded data removed]",
      "text/plain": [
       "<Figure size 432x288 with 1 Axes>"
      ]
     },
     "metadata": {},
     "output_type": "display_data"
    }
   ],
   "source": [
    "target = np.sqrt(df1['Insulin'])\n",
    "print (target.skew())\n",
    "plt.figure()\n",
    "sns.distplot(target, color =\"red\")"
   ]
  },
  {
   "cell_type": "markdown",
   "id": "2b7fee9a",
   "metadata": {},
   "source": [
    "so show the plot is skeweness is very low for using transformation of square root."
   ]
  },
  {
   "cell_type": "code",
   "execution_count": null,
   "id": "d3bbefdd",
   "metadata": {},
   "outputs": [],
   "source": []
  }
 ],
 "metadata": {
  "kernelspec": {
   "display_name": "Python 3 (ipykernel)",
   "language": "python",
   "name": "python3"
  },
  "language_info": {
   "codemirror_mode": {
    "name": "ipython",
    "version": 3
   },
   "file_extension": ".py",
   "mimetype": "text/x-python",
   "name": "python",
   "nbconvert_exporter": "python",
   "pygments_lexer": "ipython3",
   "version": "3.9.7"
  }
 },
 "nbformat": 4,
 "nbformat_minor": 5
}
