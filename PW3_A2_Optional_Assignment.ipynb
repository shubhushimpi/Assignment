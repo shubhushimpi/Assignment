{
 "cells": [
  {
   "cell_type": "markdown",
   "id": "a68603a6",
   "metadata": {},
   "source": [
    "# Python W3 - Assignment 02"
   ]
  },
  {
   "cell_type": "markdown",
   "id": "a55b3e51",
   "metadata": {},
   "source": [
    "### Q1: Please write a program to print your results as given below."
   ]
  },
  {
   "cell_type": "code",
   "execution_count": 1,
   "id": "3fe5db20",
   "metadata": {},
   "outputs": [
    {
     "name": "stdout",
     "output_type": "stream",
     "text": [
      "$\n",
      "$$\n",
      "$$$\n",
      "$$$$\n",
      "$$$$$\n",
      "$$$$$$\n",
      "$$$$$$$\n",
      "$$$$$$$$\n",
      "$$$$$$$$$\n",
      "$$$$$$$$$$\n"
     ]
    }
   ],
   "source": [
    "# Please write your code here.\n"
   ]
  },
  {
   "cell_type": "markdown",
   "id": "1b6f51b1",
   "metadata": {},
   "source": [
    "### Q2: Please write a program to convert males as 0 and females as 1 from a given list. Create a list with 5 males and 5 females before writing your code."
   ]
  },
  {
   "cell_type": "code",
   "execution_count": null,
   "id": "f0519f6c",
   "metadata": {},
   "outputs": [],
   "source": [
    "# Please write your code here"
   ]
  },
  {
   "cell_type": "markdown",
   "id": "79b80e6d",
   "metadata": {},
   "source": [
    "### Q3: You are a working professional in an institute. Students ended their semester and now want to check if they passed or failed in a specific subject. Students' names and marks are given. When a student enters his/her name, he/she should be able to see all marks and if passed or failed in any specific subject. A score more than 60 considered as a pass otherwise fails. For example:\n",
    "\n",
    "[90, 50, 55]\n",
    "<br>\n",
    "PASS\n",
    "<br>\n",
    "FAIL\n",
    "<br>\n",
    "FAIL"
   ]
  },
  {
   "cell_type": "code",
   "execution_count": null,
   "id": "1e3ceb8c",
   "metadata": {},
   "outputs": [],
   "source": [
    "# program to display student's marks from record\n",
    "student_name = input(\"Enter a name: \")\n",
    "\n",
    "marks = {'Sai': [90, 50, 55], 'Akhil': [55, 80, 95], 'Rahul': [77, 75, 82]}\n",
    "\n",
    "# your code here\n"
   ]
  },
  {
   "cell_type": "markdown",
   "id": "d0c05d1f",
   "metadata": {},
   "source": [
    "### Q4: Triplets \n",
    "\n",
    "Accept three integers as input from the user. Print “good triplet” if one of the three numbers is the sum of the other two, and “bad triplet” otherwise."
   ]
  },
  {
   "cell_type": "code",
   "execution_count": null,
   "id": "fa0f71e7",
   "metadata": {},
   "outputs": [],
   "source": [
    "# your code here"
   ]
  },
  {
   "cell_type": "markdown",
   "id": "3754af7a",
   "metadata": {},
   "source": [
    "### Q5:  Please write a function to calculate the median value from a given list. You cannot use any in-built function to calculate the median. Median value is 50 percentile of the data after sorting the list.\n",
    "<br>\n",
    "List 1 = [11, 12, 13]. Here the median value will be 12 as the total number is 3 which is odd. Hence the middle most value will be the median value.\n",
    "<br>\n",
    "List 2 = [11, 12, 13, 14] Here median value will be 12.5 as total number of elements in this list is 4 which is an even number. Hence median value is the average of two middel most values, here 12+13/2.\n",
    "\n",
    "### Your list for function is:\n",
    "<br>\n",
    "List1 = [13, 11, 12, 14, 17, 15, 16]"
   ]
  },
  {
   "cell_type": "code",
   "execution_count": null,
   "id": "745339d9",
   "metadata": {},
   "outputs": [],
   "source": [
    "# your code here"
   ]
  }
 ],
 "metadata": {
  "kernelspec": {
   "display_name": "Python 3 (ipykernel)",
   "language": "python",
   "name": "python3"
  },
  "language_info": {
   "codemirror_mode": {
    "name": "ipython",
    "version": 3
   },
   "file_extension": ".py",
   "mimetype": "text/x-python",
   "name": "python",
   "nbconvert_exporter": "python",
   "pygments_lexer": "ipython3",
   "version": "3.9.7"
  }
 },
 "nbformat": 4,
 "nbformat_minor": 5
}
