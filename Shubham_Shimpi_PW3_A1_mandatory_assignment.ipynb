{
  "cells": [
    {
      "cell_type": "markdown",
      "metadata": {
        "nbgrader": {
          "grade": false,
          "grade_id": "cell-39806162dd625703",
          "locked": true,
          "schema_version": 3,
          "solution": false,
          "task": false
        },
        "id": "Wh5zhB8UzSst"
      },
      "source": [
        "# Python W3 - Assignment 01"
      ]
    },
    {
      "cell_type": "markdown",
      "metadata": {
        "nbgrader": {
          "grade": false,
          "grade_id": "Q1",
          "locked": true,
          "schema_version": 3,
          "solution": false,
          "task": false
        },
        "id": "8WUWXZQWzSs1"
      },
      "source": [
        "\n",
        "## 1. What does average represent at the end of the execution ? (1 mark)\n"
      ]
    },
    {
      "cell_type": "code",
      "execution_count": null,
      "metadata": {
        "nbgrader": {
          "grade": false,
          "grade_id": "cell-bdbb11386adf6c13",
          "locked": true,
          "schema_version": 3,
          "solution": false,
          "task": false
        },
        "id": "nSSagP3wzSs3"
      },
      "outputs": [],
      "source": [
        "total,count= 0,0\n",
        "\n",
        "for i in range(1000):\n",
        "    if i%2 != 0 and count <= 50:\n",
        "        total = total + i\n",
        "        count = count + 1\n",
        "average = total / count\n",
        "print(average)"
      ]
    },
    {
      "cell_type": "markdown",
      "metadata": {
        "id": "8dIunCmTzSs6"
      },
      "source": [
        "| Options |\n",
        "| --- |\n",
        "| (a) average of 1 to 1000 numbers |\n",
        "| (b) average of first 1000 odd numbers |\n",
        "| (c) average of first 50 odd numbers |\n",
        "| (d) average of first 51 odd numbers |"
      ]
    },
    {
      "cell_type": "markdown",
      "metadata": {
        "nbgrader": {
          "grade": true,
          "grade_id": "A1",
          "locked": false,
          "points": 2,
          "schema_version": 3,
          "solution": true,
          "task": false
        },
        "id": "0kHTuVbCzSs7"
      },
      "source": [
        "#YOUR ANSWER HERE\n",
        "(d) average of first 51 odd numbers"
      ]
    },
    {
      "cell_type": "markdown",
      "metadata": {
        "nbgrader": {
          "grade": false,
          "grade_id": "cell-a13189a026c3771d",
          "locked": true,
          "schema_version": 3,
          "solution": false,
          "task": false
        },
        "id": "0CfCwhIQzSs8"
      },
      "source": [
        "## 2. How many asterisks does the following code print ? (1 mark)"
      ]
    },
    {
      "cell_type": "code",
      "execution_count": null,
      "metadata": {
        "id": "UxTXne_BzSs9"
      },
      "outputs": [],
      "source": [
        "i = -3\n",
        "while (i<=13):\n",
        "    print('**')\n",
        "    print('*')\n",
        "    i = i+1"
      ]
    },
    {
      "cell_type": "markdown",
      "metadata": {
        "id": "75NDAW3lzSs_"
      },
      "source": [
        "| Options |\n",
        "| --- |\n",
        "| (a) 51 |\n",
        "| (b) 25 |\n",
        "| (c) 39 |\n",
        "| (d) 48 |"
      ]
    },
    {
      "cell_type": "markdown",
      "metadata": {
        "nbgrader": {
          "grade": true,
          "grade_id": "cell-5b0ec5b5f53b7705",
          "locked": false,
          "points": 2,
          "schema_version": 3,
          "solution": true,
          "task": false
        },
        "id": "k_XAitttzStB"
      },
      "source": [
        "#YOUR ANSWER HERE\n",
        "(a) 51"
      ]
    },
    {
      "cell_type": "markdown",
      "metadata": {
        "nbgrader": {
          "grade": false,
          "grade_id": "Q2",
          "locked": true,
          "schema_version": 3,
          "solution": false,
          "task": false
        },
        "id": "i5QdXlupzStC"
      },
      "source": [
        "## Question 3 (1 mark)\n",
        "\n",
        "P is a non empty list of distinct integers that has already been defined. Which of the following statements are true at the end of execution of the code given below ? More than one option can be correct.\n"
      ]
    },
    {
      "cell_type": "code",
      "execution_count": null,
      "metadata": {
        "id": "yKUbc829zStD"
      },
      "outputs": [],
      "source": [
        "Q,R = [], []\n",
        "\n",
        "for x in P:\n",
        "    Q.append(-x)\n",
        "Q.sort()\n",
        "for x in Q:\n",
        "    R.append(-x)"
      ]
    },
    {
      "cell_type": "markdown",
      "metadata": {
        "nbgrader": {
          "grade": true,
          "grade_id": "A2",
          "locked": false,
          "points": 2,
          "schema_version": 3,
          "solution": true,
          "task": false
        },
        "id": "DaU9Ssv4zStD"
      },
      "source": [
        "| Options |\n",
        "| --- |\n",
        "| (a) P is always equal to R , i.e., P == R returns the value True |\n",
        "| (b) Every element in P is present in R , but not necessarily in the same sequence |\n",
        "| (c) R is a list of integers sorted in descending order |\n",
        "| (d) R is a list of integers sorted in ascending order |"
      ]
    },
    {
      "cell_type": "markdown",
      "metadata": {
        "nbgrader": {
          "grade": false,
          "grade_id": "cell-c583dcd635f03dab",
          "locked": true,
          "schema_version": 3,
          "solution": false,
          "task": false
        },
        "id": "LIurv8zVzStE"
      },
      "source": [
        "#YOUR ANSWERE HERE\n",
        "(b) Every element in P is present in R , but not necessarily in the same sequence\n",
        "#AND\n",
        "(a) P is always equal to R , i.e., P == R returns the value True"
      ]
    },
    {
      "cell_type": "markdown",
      "metadata": {
        "nbgrader": {
          "grade": false,
          "grade_id": "Q4",
          "locked": true,
          "schema_version": 3,
          "solution": false,
          "task": false
        },
        "id": "46GDlS00zStE"
      },
      "source": [
        "## 4. Check Function (1)\n",
        "\n",
        "Given the following function description\n",
        "Returns True if it is possible to add two of the arguments to get the remaining one and False otherwise.\n",
        "\n",
        "Example:-\n",
        "Check(1, 2, 3) returns True\n",
        "\n",
        "Check(3, 1, 2) returns True\n",
        "\n",
        "Check(3, 2, 2) returns False\n",
        "\n",
        " \n",
        "Which of the following function definitions produces the desired effect?\n",
        "\n",
        "More than one option can be correct"
      ]
    },
    {
      "cell_type": "code",
      "execution_count": null,
      "metadata": {
        "id": "f1JDwWZjzStF"
      },
      "outputs": [],
      "source": [
        "#OPTION A\n",
        "\n",
        "def Check(a,b,c):\n",
        "    l = [a,b,c]\n",
        "    l.sort()\n",
        "    return min(l) + min(l[1:]) == max(a,b,c)\n",
        "\n",
        "\n",
        "#===================================================#\n",
        "# OPTION B\n",
        "\n",
        "def Check(a,b,c):\n",
        "    if((a + b == c) and (a + c == b) and (b + c == a)):\n",
        "        return True\n",
        "    return False\n",
        "\n",
        "#===================================================#\n",
        "# OPTION C\n",
        "\n",
        "def Check(a,b,c):\n",
        "    if (a + b == c):\n",
        "        return True\n",
        "    elif (a + c == b) or (b + c == a):\n",
        "        return True\n",
        "    return False\n",
        "\n",
        "#===================================================#\n",
        "# OPTION D\n",
        "\n",
        "def Check(a,b,c):\n",
        "    if (a + b != c):\n",
        "        return False\n",
        "    elif (a + c != b):\n",
        "        return False\n",
        "    elif (b + c != a):\n",
        "        return False\n",
        "    return True\n",
        "\n",
        "#===================================================#\n",
        "# OPTION E\n",
        "\n",
        "def Check(a,b,c):\n",
        "    l = [a,b,c]\n",
        "    l.sort()\n",
        "    return l[0] + l[1] == l[2]"
      ]
    },
    {
      "cell_type": "markdown",
      "metadata": {
        "nbgrader": {
          "grade": true,
          "grade_id": "A4",
          "locked": false,
          "points": 2,
          "schema_version": 3,
          "solution": true,
          "task": false
        },
        "id": "QO2PR_2ZzStG"
      },
      "source": [
        "#YOUR ANSWER HERE\n",
        "#OPTION A\n",
        "\n",
        "def Check(a,b,c):\n",
        "    l = [a,b,c]\n",
        "    l.sort()\n",
        "    return min(l) + min(l[1:]) == max(a,b,c)\n",
        "\n",
        "\n",
        "#===================================================#\n",
        "# OPTION C\n",
        "\n",
        "def Check(a,b,c):\n",
        "    if (a + b == c):\n",
        "        return True\n",
        "    elif (a + c == b) or (b + c == a):\n",
        "        return True\n",
        "    return False"
      ]
    },
    {
      "cell_type": "markdown",
      "metadata": {
        "id": "yms9zhwqzStG"
      },
      "source": [
        "## 5. File Handling (1)\n",
        "\n",
        "After successful execution of the below code cell, how many lines will be present in \"file.txt\" file ?"
      ]
    },
    {
      "cell_type": "code",
      "execution_count": null,
      "metadata": {
        "nbgrader": {
          "grade": false,
          "grade_id": "cell-6975b5c3cd3b6be9",
          "locked": true,
          "schema_version": 3,
          "solution": false,
          "task": false
        },
        "id": "P94DKzwXzStH"
      },
      "outputs": [],
      "source": [
        "f= open('file.txt','w')\n",
        "f.write('list')\n",
        "f.write('tuple')\n",
        "f.write('set')\n",
        "f.write('dictionary')\n",
        "f.close()\n",
        "\n",
        "f= open('file.txt','r')\n",
        "l= f.readline()+'\\n'\n",
        "f.close()\n",
        "\n",
        "f= open('file.txt','a')\n",
        "for i in range(10):\n",
        "    f.write(l)\n",
        "f.close()"
      ]
    },
    {
      "cell_type": "markdown",
      "metadata": {
        "id": "-lZjUl9xzStH"
      },
      "source": [
        "| Options |\n",
        "| --- |\n",
        "| (a) 14 |\n",
        "| (b) 15 |\n",
        "| (c) 10 |\n",
        "| (d) 11 |"
      ]
    },
    {
      "cell_type": "markdown",
      "metadata": {
        "id": "4LgszCJwzStI"
      },
      "source": [
        "#YOUR ANSWER HERE\n",
        "(c) 10"
      ]
    },
    {
      "cell_type": "markdown",
      "metadata": {
        "id": "Mxx6hgO1zStI"
      },
      "source": [
        "## Programming Questions\n",
        "\n",
        "Instructions:\n",
        "- Enter your solution in the cell block below only. Double click to edit.\n",
        "- Do not edit anything else apart from 'YOUR ANSWER HERE' for your solution"
      ]
    },
    {
      "cell_type": "markdown",
      "metadata": {
        "id": "pFLAj1auzStI"
      },
      "source": [
        "### 6. Palindrome (1.5 marks)\n",
        "\n",
        "Write a program that accepts a string as input and determines whether it is a palindrome or not. A palindrome is a word which is spelled the same way in both the directions i.e., regardless of whether you read it from left to right or right to left it is the same word. \n",
        "\n",
        "Example:\n",
        "    Madam, Racecar\n",
        "\n"
      ]
    },
    {
      "cell_type": "code",
      "execution_count": 5,
      "metadata": {
        "colab": {
          "base_uri": "https://localhost:8080/"
        },
        "id": "Qhz3BHNpzStJ",
        "outputId": "ac1da599-d5ba-4022-814b-b70409fddf7c"
      },
      "outputs": [
        {
          "output_type": "stream",
          "name": "stdout",
          "text": [
            "Enter the string: madam\n",
            "madam\n",
            "The Given String is a Palindrome\n",
            "--------------------------------------------------\n",
            "second code output\n",
            "True\n"
          ]
        }
      ],
      "source": [
        "#YOUR ANSWER HERE\n",
        "s=input('Enter the string: ')\n",
        "print(s[::-1])\n",
        "if (s==s[::-1]):\n",
        "    print('The Given String is a Palindrome')\n",
        "else:\n",
        "    print('The Given String is Not Palindrome')\n",
        "\n",
        "print('-'*50)\n",
        "print('second code output')\n",
        "#---------------------------------using function check palindrome string-----------------------------------------------------------------\n",
        "def isPalindrome(string):\n",
        "\tleft_pos = 0\n",
        "\tright_pos = len(string) - 1\n",
        "\t\n",
        "\twhile right_pos >= left_pos:\n",
        "\t\tif not string[left_pos] == string[right_pos]:\n",
        "\t\t\treturn False\n",
        "\t\tleft_pos += 1\n",
        "\t\tright_pos -= 1\n",
        "\treturn True\n",
        "print(isPalindrome('madam'))"
      ]
    },
    {
      "cell_type": "markdown",
      "metadata": {
        "id": "JLRfiec3zStJ"
      },
      "source": [
        "### 7. List Rotation (2 marks)\n",
        "\n",
        "A clockwise rotation of a list consists of taking the last element and moving it to the beginning of the list. For instance, if we rotate the list [1,2,3,4.5, we get [5,1,2,3,4]. If we rotate it again, we get [4,5,1,2,3].\n",
        "\n",
        "Write a program to accept a non-empty sequence of numbers separated by space and a positive integer k and print the list elements in same line separated by space after k rotations. For example:\n"
      ]
    },
    {
      "cell_type": "markdown",
      "metadata": {
        "id": "xvAlyAxnzStJ"
      },
      "source": [
        "\n",
        "Input\n",
        "\n",
        "1 2 3 4 5\n",
        "\n",
        "3\n",
        "\n",
        "Output\n",
        "\n",
        "3 4 5 1 2"
      ]
    },
    {
      "cell_type": "code",
      "execution_count": 2,
      "metadata": {
        "id": "eG4PFu8kzStJ",
        "colab": {
          "base_uri": "https://localhost:8080/"
        },
        "outputId": "f42edb36-8796-46a8-8e5a-401dde4a2be4"
      },
      "outputs": [
        {
          "output_type": "stream",
          "name": "stdout",
          "text": [
            "[3, 4, 5, 1, 2]\n",
            "--------------------------------------------------\n",
            "[3, 4, 5, 1, 2]\n"
          ]
        }
      ],
      "source": [
        "#YOUR ANSWER HERE\n",
        "def right_rotation(l,n):\n",
        "    for i in range(0,n):\n",
        "        t=l[len(l)-1]\n",
        "        for j in range(len(l)-1,0,-1):\n",
        "            l[j]=l[j-1]\n",
        "        l[0]=t\n",
        "    return l\n",
        "l=[1,2,3,4,5]\n",
        "n=3\n",
        "print(right_rotation(l,n))\n",
        "\n",
        "print('-'*50)\n",
        "\n",
        "#-----------------------------------------2nd way-------------------------------------------------------------------------------------------------\n",
        "\n",
        "def rightRotate(lists, num):\n",
        "    output_list = []\n",
        " \n",
        "    for item in range(len(lists) - num, len(lists)):\n",
        "        output_list.append(lists[item])\n",
        " \n",
        "    for item in range(0, len(lists) - num):\n",
        "        output_list.append(lists[item])\n",
        " \n",
        "    return output_list\n",
        "\n",
        "rotate_num = 3\n",
        "list_1 =[1,2,3,4,5]\n",
        "print(rightRotate(list_1, rotate_num))"
      ]
    },
    {
      "cell_type": "markdown",
      "metadata": {
        "id": "bz5xRyP-zStK"
      },
      "source": [
        "### 8. User Score (1.5 marks)\n",
        "\n",
        "You are a forum admin. You wish to find out the total score of each user using the scoring logic given below. If the user scores more than 50, then the user is given a Leader badge, otherwise a Basic badge is given."
      ]
    },
    {
      "cell_type": "markdown",
      "metadata": {
        "id": "A475_dOpzStK"
      },
      "source": [
        "| Action | Points |\n",
        "| --- | --- |\n",
        "| read a post | 1 |\n",
        "| replied to a post | 3 |\n",
        "| created a new post | 5 |"
      ]
    },
    {
      "cell_type": "markdown",
      "metadata": {
        "id": "bP5i5dEqzStK"
      },
      "source": [
        "Implement the body of the function `user_score`. The function accepts 3 integer arguments- `read_count, reply_count, new_post_count`. It calculates the score based on the input counts and returns `Leader` or `Basic`."
      ]
    },
    {
      "cell_type": "code",
      "execution_count": 15,
      "metadata": {
        "id": "fdNChykgzStK",
        "colab": {
          "base_uri": "https://localhost:8080/"
        },
        "outputId": "5d637724-7349-474c-e0f0-ed478176b585"
      },
      "outputs": [
        {
          "output_type": "stream",
          "name": "stdout",
          "text": [
            "Leader\n",
            "Basic\n"
          ]
        },
        {
          "output_type": "execute_result",
          "data": {
            "text/plain": [
              "40"
            ]
          },
          "metadata": {},
          "execution_count": 15
        }
      ],
      "source": [
        "def user_score(read_count, reply_count, new_post_count):\n",
        "\n",
        "    #Write Function Body\n",
        "    #YOUR ANSWER HERE\n",
        "    \n",
        "    sum=read_count+reply_count+new_post_count\n",
        "    if read_count==reply_count==new_post_count:\n",
        "        sum=sum*3\n",
        "    elif sum>50:\n",
        "        print('Leader')\n",
        "    else:\n",
        "        print('Basic')\n",
        "    \n",
        "    return sum\n",
        "user_score(30,20,10)\n",
        "user_score(10,20,10)\n",
        "        \n",
        "        \n",
        "\n"
      ]
    },
    {
      "cell_type": "code",
      "source": [
        ""
      ],
      "metadata": {
        "id": "DX7B-VxCEzq_"
      },
      "execution_count": null,
      "outputs": []
    }
  ],
  "metadata": {
    "celltoolbar": "Create Assignment",
    "kernelspec": {
      "display_name": "Python 3 (ipykernel)",
      "language": "python",
      "name": "python3"
    },
    "language_info": {
      "codemirror_mode": {
        "name": "ipython",
        "version": 3
      },
      "file_extension": ".py",
      "mimetype": "text/x-python",
      "name": "python",
      "nbconvert_exporter": "python",
      "pygments_lexer": "ipython3",
      "version": "3.9.7"
    },
    "toc": {
      "base_numbering": 1,
      "nav_menu": {},
      "number_sections": true,
      "sideBar": true,
      "skip_h1_title": false,
      "title_cell": "Table of Contents",
      "title_sidebar": "Contents",
      "toc_cell": false,
      "toc_position": {},
      "toc_section_display": true,
      "toc_window_display": false
    },
    "varInspector": {
      "cols": {
        "lenName": 16,
        "lenType": 16,
        "lenVar": 40
      },
      "kernels_config": {
        "python": {
          "delete_cmd_postfix": "",
          "delete_cmd_prefix": "del ",
          "library": "var_list.py",
          "varRefreshCmd": "print(var_dic_list())"
        },
        "r": {
          "delete_cmd_postfix": ") ",
          "delete_cmd_prefix": "rm(",
          "library": "var_list.r",
          "varRefreshCmd": "cat(var_dic_list()) "
        }
      },
      "types_to_exclude": [
        "module",
        "function",
        "builtin_function_or_method",
        "instance",
        "_Feature"
      ],
      "window_display": false
    },
    "colab": {
      "name": "Shubham_ShimpiPW3_A1_mandatory_assignment.ipynb",
      "provenance": [],
      "collapsed_sections": []
    }
  },
  "nbformat": 4,
  "nbformat_minor": 0
}