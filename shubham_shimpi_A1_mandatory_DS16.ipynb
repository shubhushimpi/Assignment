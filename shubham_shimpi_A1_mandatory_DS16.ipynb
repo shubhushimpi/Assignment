{
  "cells": [
    {
      "cell_type": "markdown",
      "metadata": {
        "nbgrader": {
          "grade": false,
          "grade_id": "cell-39806162dd625703",
          "locked": true,
          "schema_version": 3,
          "solution": false,
          "task": false
        },
        "id": "-DBULxeLQoIh"
      },
      "source": [
        "# Python W2 - Assignment 01 (Mandatory)"
      ]
    },
    {
      "cell_type": "markdown",
      "metadata": {
        "nbgrader": {
          "grade": false,
          "grade_id": "Q1",
          "locked": true,
          "schema_version": 3,
          "solution": false,
          "task": false
        },
        "id": "ey8OAMp4QoIp"
      },
      "source": [
        "### 1. String Manipulation (Total marks 1)\n",
        "\n",
        "Match the following string methods with the respective output in the below options\n",
        "\n",
        "Here,\n",
        " `string= \"this is old python course\"`"
      ]
    },
    {
      "cell_type": "markdown",
      "metadata": {
        "id": "1TQE9k1LQoIr"
      },
      "source": [
        "| Statement | Output |\n",
        "| --- | --- |\n",
        "| (a) string.count(\"is\") | (1) True |\n",
        "| (b) string.replace(\"old\", \"new\") | (2) 12 |\n",
        "| (c) string.index(\"python\") | (3) 'this is new python course' |\n",
        "| (d) string.startswith(\"this\") | (4) 2 |\n",
        "| (e) string.isalnum() | (5) False |\n",
        "| (g) string.strip(\"this is old\") | (6) 'python course' |"
      ]
    },
    {
      "cell_type": "markdown",
      "metadata": {
        "nbgrader": {
          "grade": true,
          "grade_id": "A1",
          "locked": false,
          "points": 2,
          "schema_version": 3,
          "solution": true,
          "task": false
        },
        "id": "q9dSIJqlQoIt"
      },
      "source": [
        "\n",
        "\n",
        "```\n",
        "# This is formatted as code\n",
        "```\n",
        "\n",
        "# #YOUR ANSWER HERE\n",
        "(A) string count('is')--(4)2\n",
        "(b) string.replace(\"old\", \"new\")--(3) 'this is new python course'\n",
        "(c) string.index(\"python\")--(2)12\n",
        "(d) string.startswith(\"this\")--(1)True\n",
        "(e) string.isalnum()--(5)false\n",
        "(g) string.strip(\"this is old\")--(6) 'python course'\n"
      ]
    },
    {
      "cell_type": "markdown",
      "source": [
        ""
      ],
      "metadata": {
        "id": "8JxxqOP2hoj1"
      }
    },
    {
      "cell_type": "markdown",
      "metadata": {
        "nbgrader": {
          "grade": false,
          "grade_id": "cell-a13189a026c3771d",
          "locked": true,
          "schema_version": 3,
          "solution": false,
          "task": false
        },
        "id": "62Fru2QYQoIt"
      },
      "source": [
        "### 2. Nested Conditions (Total marks 1)\n",
        "\n",
        "\n"
      ]
    },
    {
      "cell_type": "code",
      "execution_count": null,
      "metadata": {
        "id": "CZmyG2jLQoIu"
      },
      "outputs": [],
      "source": [
        "x = int(input())\n",
        "y = int(input())\n",
        "z = int(input())\n",
        "\n",
        "#Block-1 Start\n",
        "\n",
        "if x > 0 or y> 0 or z > 0:\n",
        "    if (x > 0 and y> 0) or (y> 0 and z> 0) or (z> 0 and x > 0):\n",
        "        if x > 0 and y> 0 and z > 0:\n",
        "            print('P3')\n",
        "        else:\n",
        "            print('P2')\n",
        "    else:\n",
        "        print('P1')\n",
        "\n",
        "#Block-1 End\n",
        "\n",
        "\n",
        "# Block-2 Start\n",
        "\n",
        "if x <0 or y<0 or z < 0:\n",
        "    if (x < 0 and y< 0) or (y< 0 and z< 0) or (z< 0 and x < 0):\n",
        "            if x < 0 and y< 0 and z < 0:\n",
        "                print('N3')\n",
        "            else:\n",
        "                print('N2')\n",
        "    else:\n",
        "        print('N1')\n",
        "\n",
        "\n",
        "#Block-2 End"
      ]
    },
    {
      "cell_type": "markdown",
      "metadata": {
        "id": "6SZNq2paQoIx"
      },
      "source": [
        "What will be the output for the below input of x,y and z?\n",
        "\n",
        "x= -1\n",
        "y= 4\n",
        "z= 1"
      ]
    },
    {
      "cell_type": "markdown",
      "metadata": {
        "nbgrader": {
          "grade": true,
          "grade_id": "cell-5b0ec5b5f53b7705",
          "locked": false,
          "points": 2,
          "schema_version": 3,
          "solution": true,
          "task": false
        },
        "id": "QIRVVfYlQoIy"
      },
      "source": [
        "#YOUR ANSWER HERE\n",
        "\n",
        "ans is \n",
        "P2 and\n",
        "N1"
      ]
    },
    {
      "cell_type": "markdown",
      "metadata": {
        "nbgrader": {
          "grade": false,
          "grade_id": "Q2",
          "locked": true,
          "schema_version": 3,
          "solution": false,
          "task": false
        },
        "id": "ryveXMpVQoIy"
      },
      "source": [
        "### 3. String slicing (Total marks 2)\n"
      ]
    },
    {
      "cell_type": "code",
      "execution_count": null,
      "metadata": {
        "id": "vPfhFw5kQoIz"
      },
      "outputs": [],
      "source": [
        "a = int(input())\n",
        "\n",
        "b= int(input())\n",
        "\n",
        "c= int(input())\n",
        "\n",
        "d = int(input())\n",
        "\n",
        "e = int(input())\n",
        "\n",
        "print(s[-a:-len(s):-3])\n",
        "\n",
        "print (s[::-b])\n",
        "\n",
        "print (s[c:0:-3])\n",
        "\n",
        "print (s[len(s): - d:-3])\n",
        "\n",
        "print (s[:e:-3])"
      ]
    },
    {
      "cell_type": "markdown",
      "metadata": {
        "nbgrader": {
          "grade": true,
          "grade_id": "A2",
          "locked": false,
          "points": 2,
          "schema_version": 3,
          "solution": true,
          "task": false
        },
        "id": "Gw6AIFlNQoI0"
      },
      "source": [
        "Consider that the string `s='abcdefghijklmnopqrstuvwxyz'`\\\n",
        "For what user input of a, b, c, d and e (where 0 <= a,b,c,d,e< len(s) ) does the above code-snippet print following output?\\\n",
        "It is a Numerical Answer Type (NAT) question. Enter your input value separated by, without any space like: 7,15,0,4,0\n",
        "\n",
        "`zwtqnkheb`\n",
        "\n",
        "`zwtqnkheb`\n",
        "\n",
        "`zwtqnkheb`\n",
        "\n",
        "`zwtqnkheb`\n",
        "\n",
        "`zwtqnkheb`"
      ]
    },
    {
      "cell_type": "markdown",
      "source": [
        "#YOUR ANSWERE \n",
        "this is my input number\n",
        "5\n",
        "10\n",
        "3\n",
        "6\n",
        "8\n",
        "this is my output\n",
        "vspmjgd\n",
        "zpf\n",
        "d\n",
        "zw\n",
        "zwtqnk"
      ],
      "metadata": {
        "id": "LvvO5EuQkkjl"
      }
    },
    {
      "cell_type": "code",
      "execution_count": null,
      "metadata": {
        "nbgrader": {
          "grade": false,
          "grade_id": "cell-c583dcd635f03dab",
          "locked": true,
          "schema_version": 3,
          "solution": false,
          "task": false
        },
        "id": "QmOE8MVhQoI1"
      },
      "outputs": [],
      "source": [
        ""
      ]
    },
    {
      "cell_type": "markdown",
      "metadata": {
        "nbgrader": {
          "grade": false,
          "grade_id": "Q3",
          "locked": true,
          "schema_version": 3,
          "solution": false,
          "task": false
        },
        "id": "-qOspTPaQoI2"
      },
      "source": [
        "### 4. Code Brackets (Total marks 2)\n",
        "\n",
        "Consider the program in the code cell below;"
      ]
    },
    {
      "cell_type": "code",
      "execution_count": null,
      "metadata": {
        "id": "gDj17jDJQoI2"
      },
      "outputs": [],
      "source": [
        "match= False\n",
        "if s.count('(') == s.count(')'):\n",
        "    if s.count('{') == s.count('}'):\n",
        "        if s.count('[') == s.count(']'):\n",
        "            match = True"
      ]
    },
    {
      "cell_type": "markdown",
      "metadata": {
        "nbgrader": {
          "grade": true,
          "grade_id": "A3",
          "locked": false,
          "points": 2,
          "schema_version": 3,
          "solution": true,
          "task": false
        },
        "id": "yuQQxDrzQoI3"
      },
      "source": [
        "If s = \"abcd(efgh(ijkl}{{}))\" what will be the value of match at the end of execution and justification?\n",
        "\n",
        "1. False, the number of opening and closing brackets are only considered\n",
        "2. False, the position of opening and closing brackets are not considered.\n",
        "3. True, the number of opening and closing brackets are only considered\n",
        "4. True, the number and position of opening and closing brackets are considered.\n"
      ]
    },
    {
      "cell_type": "markdown",
      "source": [
        "#YOUR ANSWER HERE\n",
        "my ans \n",
        "2.False, the position of opening and closing brackets are not considered."
      ],
      "metadata": {
        "id": "N7kjH--LlIRb"
      }
    },
    {
      "cell_type": "code",
      "execution_count": null,
      "metadata": {
        "nbgrader": {
          "grade": false,
          "grade_id": "cell-f0e0b9c35862e705",
          "locked": true,
          "schema_version": 3,
          "solution": false,
          "task": false
        },
        "id": "4E3bKMPMQoI5"
      },
      "outputs": [],
      "source": [
        ""
      ]
    },
    {
      "cell_type": "markdown",
      "metadata": {
        "id": "znUMa7DJQoI-"
      },
      "source": [
        "## Programming Questions\n",
        "\n",
        "Instructions:\n",
        "- Enter your solution in the cell block below only. Double click to edit.\n",
        "- Do not edit anything else apart from 'YOUR ANSWER HERE' for your solution"
      ]
    },
    {
      "cell_type": "code",
      "execution_count": null,
      "metadata": {
        "id": "DWNzqV1yQoJB"
      },
      "outputs": [],
      "source": [
        "#YOUR ANSWER HERE"
      ]
    },
    {
      "cell_type": "markdown",
      "metadata": {
        "id": "aC7PSJozQoJC"
      },
      "source": [
        "### 5. Accept a sentence as input and find the number of words in it. Assume that the sentence has no punctuation marks (Total marks 2)\n",
        "\n",
        "\n",
        "Example:\n",
        "\n",
        "what a shot - 3 words\n",
        "\n",
        "this is a chair - 4 words"
      ]
    },
    {
      "cell_type": "code",
      "execution_count": 3,
      "metadata": {
        "colab": {
          "base_uri": "https://localhost:8080/"
        },
        "id": "aVNa0a5PQoJD",
        "outputId": "59508da3-baa9-42c6-f8ee-76ad152f927b"
      },
      "outputs": [
        {
          "output_type": "stream",
          "name": "stdout",
          "text": [
            "The original string is : Hi i am shubham and i am learning data science\n",
            "The number of words in string are : 10\n"
          ]
        }
      ],
      "source": [
        "#YOUR ANSWER HERE\n",
        "\n",
        "string='Hi i am shubham and i am learning data science'\n",
        "# printing original string\n",
        "print (\"The original string is : \" +  string)\n",
        "  \n",
        "# using split()\n",
        "# to count words in string\n",
        "res = len(string.split())\n",
        "  \n",
        "# printing result\n",
        "print (\"The number of words in string are : \" +  str(res))\n"
      ]
    },
    {
      "cell_type": "markdown",
      "metadata": {
        "id": "e3_mt8i7QoJD"
      },
      "source": [
        "### 6. Sandwich number (Total marks 2)\n",
        "\n",
        "A three digit number is called a sandwich number if the difference between its first and last digit is equal to its middle digit. Accept a three digit number as input and print “sandwich” if the number is a sandwich number. Print “plain” if the number is not a sandwich number. For example, 123 and 853 are sandwich numbers."
      ]
    },
    {
      "cell_type": "code",
      "execution_count": 2,
      "metadata": {
        "colab": {
          "base_uri": "https://localhost:8080/"
        },
        "id": "xWQx1k3fQoJh",
        "outputId": "a4d5b5d6-6c35-4bf2-88d1-f14bcabfdf2e"
      },
      "outputs": [
        {
          "output_type": "stream",
          "name": "stdout",
          "text": [
            "enter sandiwich no:111\n",
            "sandwich\n"
          ]
        }
      ],
      "source": [
        "#YOUR ANSWER HERE\n",
        "a=int(input('enter sandiwich no:'))\n",
        "if a>=100:\n",
        "    print('sandwich')\n",
        "else:\n",
        "    print('plain')"
      ]
    }
  ],
  "metadata": {
    "celltoolbar": "Create Assignment",
    "kernelspec": {
      "display_name": "Python 3 (ipykernel)",
      "language": "python",
      "name": "python3"
    },
    "language_info": {
      "codemirror_mode": {
        "name": "ipython",
        "version": 3
      },
      "file_extension": ".py",
      "mimetype": "text/x-python",
      "name": "python",
      "nbconvert_exporter": "python",
      "pygments_lexer": "ipython3",
      "version": "3.9.7"
    },
    "toc": {
      "base_numbering": 1,
      "nav_menu": {},
      "number_sections": true,
      "sideBar": true,
      "skip_h1_title": false,
      "title_cell": "Table of Contents",
      "title_sidebar": "Contents",
      "toc_cell": false,
      "toc_position": {},
      "toc_section_display": true,
      "toc_window_display": false
    },
    "varInspector": {
      "cols": {
        "lenName": 16,
        "lenType": 16,
        "lenVar": 40
      },
      "kernels_config": {
        "python": {
          "delete_cmd_postfix": "",
          "delete_cmd_prefix": "del ",
          "library": "var_list.py",
          "varRefreshCmd": "print(var_dic_list())"
        },
        "r": {
          "delete_cmd_postfix": ") ",
          "delete_cmd_prefix": "rm(",
          "library": "var_list.r",
          "varRefreshCmd": "cat(var_dic_list()) "
        }
      },
      "types_to_exclude": [
        "module",
        "function",
        "builtin_function_or_method",
        "instance",
        "_Feature"
      ],
      "window_display": false
    },
    "colab": {
      "name": "shubham_shimpi_A1_mandatory_DS16.ipynb",
      "provenance": [],
      "collapsed_sections": []
    }
  },
  "nbformat": 4,
  "nbformat_minor": 0
}