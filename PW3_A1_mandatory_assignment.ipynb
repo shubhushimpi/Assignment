{
 "cells": [
  {
   "cell_type": "markdown",
   "metadata": {
    "nbgrader": {
     "grade": false,
     "grade_id": "cell-39806162dd625703",
     "locked": true,
     "schema_version": 3,
     "solution": false,
     "task": false
    }
   },
   "source": [
    "# Python W3 - Assignment 01"
   ]
  },
  {
   "cell_type": "markdown",
   "metadata": {
    "nbgrader": {
     "grade": false,
     "grade_id": "Q1",
     "locked": true,
     "schema_version": 3,
     "solution": false,
     "task": false
    }
   },
   "source": [
    "\n",
    "## 1. What does average represent at the end of the execution ? (1 mark)\n"
   ]
  },
  {
   "cell_type": "code",
   "execution_count": null,
   "metadata": {
    "nbgrader": {
     "grade": false,
     "grade_id": "cell-bdbb11386adf6c13",
     "locked": true,
     "schema_version": 3,
     "solution": false,
     "task": false
    }
   },
   "outputs": [],
   "source": [
    "total,count= 0,0\n",
    "\n",
    "for i in range(1000):\n",
    "    if i%2 != 0 and count <= 50:\n",
    "        total = total + i\n",
    "        count = count + 1\n",
    "average = total / count\n",
    "print(average)"
   ]
  },
  {
   "cell_type": "markdown",
   "metadata": {},
   "source": [
    "| Options |\n",
    "| --- |\n",
    "| (a) average of 1 to 1000 numbers |\n",
    "| (b) average of first 1000 odd numbers |\n",
    "| (c) average of first 50 odd numbers |\n",
    "| (d) average of first 51 odd numbers |"
   ]
  },
  {
   "cell_type": "markdown",
   "metadata": {
    "nbgrader": {
     "grade": true,
     "grade_id": "A1",
     "locked": false,
     "points": 2,
     "schema_version": 3,
     "solution": true,
     "task": false
    }
   },
   "source": [
    "#YOUR ANSWER HERE"
   ]
  },
  {
   "cell_type": "markdown",
   "metadata": {
    "nbgrader": {
     "grade": false,
     "grade_id": "cell-a13189a026c3771d",
     "locked": true,
     "schema_version": 3,
     "solution": false,
     "task": false
    }
   },
   "source": [
    "## 2. How many asterisks does the following code print ? (1 mark)"
   ]
  },
  {
   "cell_type": "code",
   "execution_count": null,
   "metadata": {},
   "outputs": [],
   "source": [
    "i = -3\n",
    "while (i<=13):\n",
    "    print('**')\n",
    "    print('*')\n",
    "    i = i+1"
   ]
  },
  {
   "cell_type": "markdown",
   "metadata": {},
   "source": [
    "| Options |\n",
    "| --- |\n",
    "| (a) 51 |\n",
    "| (b) 25 |\n",
    "| (c) 39 |\n",
    "| (d) 48 |"
   ]
  },
  {
   "cell_type": "markdown",
   "metadata": {
    "nbgrader": {
     "grade": true,
     "grade_id": "cell-5b0ec5b5f53b7705",
     "locked": false,
     "points": 2,
     "schema_version": 3,
     "solution": true,
     "task": false
    }
   },
   "source": [
    "#YOUR ANSWER HERE"
   ]
  },
  {
   "cell_type": "markdown",
   "metadata": {
    "nbgrader": {
     "grade": false,
     "grade_id": "Q2",
     "locked": true,
     "schema_version": 3,
     "solution": false,
     "task": false
    }
   },
   "source": [
    "## Question 3 (1 mark)\n",
    "\n",
    "P is a non empty list of distinct integers that has already been defined. Which of the following statements are true at the end of execution of the code given below ? More than one option can be correct.\n"
   ]
  },
  {
   "cell_type": "code",
   "execution_count": null,
   "metadata": {},
   "outputs": [],
   "source": [
    "Q,R = [], []\n",
    "\n",
    "for x in P:\n",
    "    Q.append(-x)\n",
    "Q.sort()\n",
    "for x in Q:\n",
    "    R.append(-x)"
   ]
  },
  {
   "cell_type": "markdown",
   "metadata": {
    "nbgrader": {
     "grade": true,
     "grade_id": "A2",
     "locked": false,
     "points": 2,
     "schema_version": 3,
     "solution": true,
     "task": false
    }
   },
   "source": [
    "| Options |\n",
    "| --- |\n",
    "| (a) P is always equal to R , i.e., P == R returns the value True |\n",
    "| (b) Every element in P is present in R , but not necessarily in the same sequence |\n",
    "| (c) R is a list of integers sorted in descending order |\n",
    "| (d) R is a list of integers sorted in ascending order |"
   ]
  },
  {
   "cell_type": "markdown",
   "metadata": {
    "nbgrader": {
     "grade": false,
     "grade_id": "cell-c583dcd635f03dab",
     "locked": true,
     "schema_version": 3,
     "solution": false,
     "task": false
    }
   },
   "source": [
    "#YOUR ANSWERE HERE"
   ]
  },
  {
   "cell_type": "markdown",
   "metadata": {
    "nbgrader": {
     "grade": false,
     "grade_id": "Q4",
     "locked": true,
     "schema_version": 3,
     "solution": false,
     "task": false
    }
   },
   "source": [
    "## 4. Check Function (1)\n",
    "\n",
    "Given the following function description\n",
    "Returns True if it is possible to add two of the arguments to get the remaining one and False otherwise.\n",
    "\n",
    "Example:-\n",
    "Check(1, 2, 3) returns True\n",
    "\n",
    "Check(3, 1, 2) returns True\n",
    "\n",
    "Check(3, 2, 2) returns False\n",
    "\n",
    " \n",
    "Which of the following function definitions produces the desired effect?\n",
    "\n",
    "More than one option can be correct"
   ]
  },
  {
   "cell_type": "code",
   "execution_count": null,
   "metadata": {},
   "outputs": [],
   "source": [
    "#OPTION A\n",
    "\n",
    "def Check(a,b,c):\n",
    "    l = [a,b,c]\n",
    "    l.sort()\n",
    "    return min(l) + min(l[1:]) == max(a,b,c)\n",
    "\n",
    "\n",
    "#===================================================#\n",
    "# OPTION B\n",
    "\n",
    "def Check(a,b,c):\n",
    "    if((a + b == c) and (a + c == b) and (b + c == a)):\n",
    "        return True\n",
    "    return False\n",
    "\n",
    "#===================================================#\n",
    "# OPTION C\n",
    "\n",
    "def Check(a,b,c):\n",
    "    if (a + b == c):\n",
    "        return True\n",
    "    elif (a + c == b) or (b + c == a):\n",
    "        return True\n",
    "    return False\n",
    "\n",
    "#===================================================#\n",
    "# OPTION D\n",
    "\n",
    "def Check(a,b,c):\n",
    "    if (a + b != c):\n",
    "        return False\n",
    "    elif (a + c != b):\n",
    "        return False\n",
    "    elif (b + c != a):\n",
    "        return False\n",
    "    return True\n",
    "\n",
    "#===================================================#\n",
    "# OPTION E\n",
    "\n",
    "def Check(a,b,c):\n",
    "    l = [a,b,c]\n",
    "    l.sort()\n",
    "    return l[0] + l[1] == l[2]"
   ]
  },
  {
   "cell_type": "markdown",
   "metadata": {
    "nbgrader": {
     "grade": true,
     "grade_id": "A4",
     "locked": false,
     "points": 2,
     "schema_version": 3,
     "solution": true,
     "task": false
    }
   },
   "source": [
    "#YOUR ANSWER HERE"
   ]
  },
  {
   "cell_type": "markdown",
   "metadata": {},
   "source": [
    "## 5. File Handling (1)\n",
    "\n",
    "After successful execution of the below code cell, how many lines will be present in \"file.txt\" file ?"
   ]
  },
  {
   "cell_type": "code",
   "execution_count": null,
   "metadata": {
    "nbgrader": {
     "grade": false,
     "grade_id": "cell-6975b5c3cd3b6be9",
     "locked": true,
     "schema_version": 3,
     "solution": false,
     "task": false
    }
   },
   "outputs": [],
   "source": [
    "f= open('file.txt','w')\n",
    "f.write('list')\n",
    "f.write('tuple')\n",
    "f.write('set')\n",
    "f.write('dictionary')\n",
    "f.close()\n",
    "\n",
    "f= open('file.txt','r')\n",
    "l= f.readline()+'\\n'\n",
    "f.close()\n",
    "\n",
    "f= open('file.txt','a')\n",
    "for i in range(10):\n",
    "    f.write(l)\n",
    "f.close()"
   ]
  },
  {
   "cell_type": "markdown",
   "metadata": {},
   "source": [
    "| Options |\n",
    "| --- |\n",
    "| (a) 14 |\n",
    "| (b) 15 |\n",
    "| (c) 10 |\n",
    "| (d) 11 |"
   ]
  },
  {
   "cell_type": "markdown",
   "metadata": {},
   "source": [
    "#YOUR ANSWER HERE"
   ]
  },
  {
   "cell_type": "markdown",
   "metadata": {},
   "source": [
    "## Programming Questions\n",
    "\n",
    "Instructions:\n",
    "- Enter your solution in the cell block below only. Double click to edit.\n",
    "- Do not edit anything else apart from 'YOUR ANSWER HERE' for your solution"
   ]
  },
  {
   "cell_type": "markdown",
   "metadata": {},
   "source": [
    "### 6. Palindrome (1.5 marks)\n",
    "\n",
    "Write a program that accepts a string as input and determines whether it is a palindrome or not. A palindrome is a word which is spelled the same way in both the directions i.e., regardless of whether you read it from left to right or right to left it is the same word. \n",
    "\n",
    "Example:\n",
    "    Madam, Racecar\n",
    "\n"
   ]
  },
  {
   "cell_type": "code",
   "execution_count": null,
   "metadata": {},
   "outputs": [],
   "source": [
    "#YOUR ANSWER HERE"
   ]
  },
  {
   "cell_type": "markdown",
   "metadata": {},
   "source": [
    "### 7. List Rotation (2 marks)\n",
    "\n",
    "A clockwise rotation of a list consists of taking the last element and moving it to the beginning of the list. For instance, if we rotate the list [1,2,3,4.5, we get [5,1,2,3,4]. If we rotate it again, we get [4,5,1,2,3].\n",
    "\n",
    "Write a program to accept a non-empty sequence of numbers separated by space and a positive integer k and print the list elements in same line separated by space after k rotations. For example:\n"
   ]
  },
  {
   "cell_type": "markdown",
   "metadata": {},
   "source": [
    "\n",
    "Input\n",
    "\n",
    "1 2 3 4 5\n",
    "\n",
    "3\n",
    "\n",
    "Output\n",
    "\n",
    "3 4 5 1 2"
   ]
  },
  {
   "cell_type": "code",
   "execution_count": null,
   "metadata": {},
   "outputs": [],
   "source": [
    "#YOUR ANSWER HERE"
   ]
  },
  {
   "cell_type": "markdown",
   "metadata": {},
   "source": [
    "### 8. User Score (1.5 marks)\n",
    "\n",
    "You are a forum admin. You wish to find out the total score of each user using the scoring logic given below. If the user scores more than 50, then the user is given a Leader badge, otherwise a Basic badge is given."
   ]
  },
  {
   "cell_type": "markdown",
   "metadata": {},
   "source": [
    "| Action | Points |\n",
    "| --- | --- |\n",
    "| read a post | 1 |\n",
    "| replied to a post | 3 |\n",
    "| created a new post | 5 |"
   ]
  },
  {
   "cell_type": "markdown",
   "metadata": {},
   "source": [
    "Implement the body of the function `user_score`. The function accepts 3 integer arguments- `read_count, reply_count, new_post_count`. It calculates the score based on the input counts and returns `Leader` or `Basic`."
   ]
  },
  {
   "cell_type": "code",
   "execution_count": null,
   "metadata": {},
   "outputs": [],
   "source": [
    "def user_score(read_count, reply_count, new_post_count):\n",
    "\n",
    "    #Write Function Body\n",
    "    #YOUR ANSWER HERE"
   ]
  }
 ],
 "metadata": {
  "celltoolbar": "Create Assignment",
  "kernelspec": {
   "display_name": "Python 3 (ipykernel)",
   "language": "python",
   "name": "python3"
  },
  "language_info": {
   "codemirror_mode": {
    "name": "ipython",
    "version": 3
   },
   "file_extension": ".py",
   "mimetype": "text/x-python",
   "name": "python",
   "nbconvert_exporter": "python",
   "pygments_lexer": "ipython3",
   "version": "3.9.7"
  },
  "toc": {
   "base_numbering": 1,
   "nav_menu": {},
   "number_sections": true,
   "sideBar": true,
   "skip_h1_title": false,
   "title_cell": "Table of Contents",
   "title_sidebar": "Contents",
   "toc_cell": false,
   "toc_position": {},
   "toc_section_display": true,
   "toc_window_display": false
  },
  "varInspector": {
   "cols": {
    "lenName": 16,
    "lenType": 16,
    "lenVar": 40
   },
   "kernels_config": {
    "python": {
     "delete_cmd_postfix": "",
     "delete_cmd_prefix": "del ",
     "library": "var_list.py",
     "varRefreshCmd": "print(var_dic_list())"
    },
    "r": {
     "delete_cmd_postfix": ") ",
     "delete_cmd_prefix": "rm(",
     "library": "var_list.r",
     "varRefreshCmd": "cat(var_dic_list()) "
    }
   },
   "types_to_exclude": [
    "module",
    "function",
    "builtin_function_or_method",
    "instance",
    "_Feature"
   ],
   "window_display": false
  }
 },
 "nbformat": 4,
 "nbformat_minor": 4
}
