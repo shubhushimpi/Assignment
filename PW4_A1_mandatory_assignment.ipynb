{
 "cells": [
  {
   "cell_type": "markdown",
   "id": "fba144ef",
   "metadata": {},
   "source": [
    "# Python W4 - Assignment 01"
   ]
  },
  {
   "cell_type": "markdown",
   "id": "0744753e",
   "metadata": {},
   "source": [
    "## Q1:  Write a NumPy program to create a 8x8 matrix and fill it with a checkerboard pattern."
   ]
  },
  {
   "cell_type": "code",
   "execution_count": 1,
   "id": "0a1573f4",
   "metadata": {},
   "outputs": [],
   "source": [
    "# Ans:"
   ]
  },
  {
   "cell_type": "markdown",
   "id": "65ae02a5",
   "metadata": {},
   "source": [
    "## Q2: Create a 2d array with 1 on the border and 0 inside"
   ]
  },
  {
   "cell_type": "code",
   "execution_count": 2,
   "id": "6ff5d900",
   "metadata": {},
   "outputs": [],
   "source": [
    "# Ans:"
   ]
  },
  {
   "cell_type": "markdown",
   "id": "5da48e4e",
   "metadata": {},
   "source": [
    "## Q3: Create a 3x3 matrix with values ranging from 0 to 8"
   ]
  },
  {
   "cell_type": "code",
   "execution_count": 3,
   "id": "a231f27b",
   "metadata": {},
   "outputs": [],
   "source": [
    "# Ans"
   ]
  },
  {
   "cell_type": "markdown",
   "id": "5cc4b1f5",
   "metadata": {},
   "source": [
    "## Q4: Create a vector with values ranging from 10 to 49 and then reverse the vector."
   ]
  },
  {
   "cell_type": "code",
   "execution_count": 4,
   "id": "3f2a7d7a",
   "metadata": {},
   "outputs": [],
   "source": [
    "# Ans"
   ]
  },
  {
   "cell_type": "markdown",
   "id": "5b2d54cd",
   "metadata": {},
   "source": [
    "## Q5: Find indices of non-zero elements from the numpy array - [1,2,0,0,4,0]"
   ]
  },
  {
   "cell_type": "code",
   "execution_count": 5,
   "id": "1cf9316a",
   "metadata": {},
   "outputs": [],
   "source": [
    "# Ans"
   ]
  },
  {
   "cell_type": "markdown",
   "id": "c1b977a2",
   "metadata": {},
   "source": [
    "## Q6: Import the pandas library, import the absenteeism dataset(provided) and assign it to “df”, and find out the “type” of the dataset."
   ]
  },
  {
   "cell_type": "code",
   "execution_count": 6,
   "id": "2952480e",
   "metadata": {},
   "outputs": [],
   "source": [
    "# Ans"
   ]
  },
  {
   "cell_type": "markdown",
   "id": "f4048b2a",
   "metadata": {},
   "source": [
    "## Q7: Find the info of the data set."
   ]
  },
  {
   "cell_type": "code",
   "execution_count": 7,
   "id": "6eaed6e1",
   "metadata": {},
   "outputs": [],
   "source": [
    "# Ans"
   ]
  },
  {
   "cell_type": "markdown",
   "id": "485c551a",
   "metadata": {},
   "source": [
    "## Q8: Drop the first column “ID”, and save it back to “df”."
   ]
  },
  {
   "cell_type": "code",
   "execution_count": 8,
   "id": "805127c0",
   "metadata": {},
   "outputs": [],
   "source": [
    "# Ans"
   ]
  },
  {
   "cell_type": "markdown",
   "id": "ff0c417c",
   "metadata": {},
   "source": [
    "## Q9: Drop the age column. And save it back to “df”"
   ]
  },
  {
   "cell_type": "code",
   "execution_count": 9,
   "id": "2a7bf615",
   "metadata": {},
   "outputs": [],
   "source": [
    "# Ans"
   ]
  },
  {
   "cell_type": "markdown",
   "id": "62de89f6",
   "metadata": {},
   "source": [
    "## Q10 What are the smallest and largest values of the column “reason for absence”."
   ]
  },
  {
   "cell_type": "code",
   "execution_count": null,
   "id": "ca4388cc",
   "metadata": {},
   "outputs": [],
   "source": [
    "# Ans"
   ]
  }
 ],
 "metadata": {
  "kernelspec": {
   "display_name": "Python 3 (ipykernel)",
   "language": "python",
   "name": "python3"
  },
  "language_info": {
   "codemirror_mode": {
    "name": "ipython",
    "version": 3
   },
   "file_extension": ".py",
   "mimetype": "text/x-python",
   "name": "python",
   "nbconvert_exporter": "python",
   "pygments_lexer": "ipython3",
   "version": "3.9.7"
  }
 },
 "nbformat": 4,
 "nbformat_minor": 5
}
